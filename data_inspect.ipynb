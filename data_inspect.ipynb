{
  "nbformat": 4,
  "nbformat_minor": 0,
  "metadata": {
    "colab": {
      "name": "data_inspect.ipynb",
      "provenance": [],
      "collapsed_sections": [],
      "mount_file_id": "17Su06PvCkKuBZ0ckkgIWV6o-_IqTQSeF",
      "authorship_tag": "ABX9TyO8ZPLZRUvcnAtg9tGMucgR",
      "include_colab_link": true
    },
    "kernelspec": {
      "name": "python3",
      "display_name": "Python 3"
    },
    "language_info": {
      "name": "python"
    }
  },
  "cells": [
    {
      "cell_type": "markdown",
      "metadata": {
        "id": "view-in-github",
        "colab_type": "text"
      },
      "source": [
        "<a href=\"https://colab.research.google.com/github/Victor-wang-902/codes/blob/main/data_inspect.ipynb\" target=\"_parent\"><img src=\"https://colab.research.google.com/assets/colab-badge.svg\" alt=\"Open In Colab\"/></a>"
      ]
    },
    {
      "cell_type": "markdown",
      "source": [
        "Data Inspection for\n",
        "\n",
        "\n",
        "*   fluvacc metadata - UGA1-5 - 1368 entries with clear vacc status - for figures\n",
        "*   *Glycomics_UGA4_Day0Day28.xlsx\n",
        "*   *Metabolomics_UGA4_D0toDay28.xlsx\n",
        "*   *Proteomics_UGA4_Day0.xlsx\n",
        "*   *Transcriptomics_UGA4_day0_logCPMcounts.xlsx\n",
        "\n",
        "*Hasn't done yet.\n",
        "\n",
        "To Run the notebook, copy the data into the same directory and change input file name/cwd if necessary.\n",
        "\n",
        "\n",
        "\n"
      ],
      "metadata": {
        "id": "54_REe1D1rbL"
      }
    },
    {
      "cell_type": "code",
      "execution_count": 26,
      "metadata": {
        "id": "u-w_e8PdpciK"
      },
      "outputs": [],
      "source": [
        "import pandas as pd\n",
        "import matplotlib.pyplot as plt"
      ]
    },
    {
      "cell_type": "code",
      "source": [
        "##TODO: change directory to cwd if run on colab\n",
        "%cd /content/drive/MyDrive/Colab Notebooks/vogel\n",
        "%ls"
      ],
      "metadata": {
        "colab": {
          "base_uri": "https://localhost:8080/"
        },
        "id": "-lXQiivm7W4O",
        "outputId": "caf89a20-8497-4e0c-d19c-dc67cd78bd8b"
      },
      "execution_count": 27,
      "outputs": [
        {
          "output_type": "stream",
          "name": "stdout",
          "text": [
            "/content/drive/MyDrive/Colab Notebooks/vogel\n",
            "'Copy of Glycomics_UGA4_Day0Day28.xlsx'\n",
            "'Copy of Metabolomics_UGA4_D0toDay28.xlsx'\n",
            "'Copy of metabolomics_UGA4_global_median_normalized_sample_only.quantified.txt'\n",
            "'Copy of metabolomics_UGA4_untargeted_median_normalized_sample_only.quantified.txt'\n",
            "'Copy of Proteomics_UGA4_Day0.xlsx'\n",
            "'Copy of Transcriptomics_UGA4_day0_logCPMcounts.xlsx'\n",
            " data_inspect.ipynb\n",
            "'fluvacc metadata - UGA1-5 - 1368 entries with clear vacc status - for figures.txt'\n",
            " meta.txt\n"
          ]
        }
      ]
    },
    {
      "cell_type": "markdown",
      "source": [
        "# fluvacc metadata - UGA1-5 - 1368 entries with clear vacc status - for figures"
      ],
      "metadata": {
        "id": "fIDAlCvh4TWP"
      }
    },
    {
      "cell_type": "code",
      "source": [
        "df = pd.read_csv(\"fluvacc metadata - UGA1-5 - 1368 entries with clear vacc status - for figures.txt\", sep=\"\\t\")  ##TODO: put the name of the file here\n",
        "df.head()"
      ],
      "metadata": {
        "colab": {
          "base_uri": "https://localhost:8080/",
          "height": 236
        },
        "id": "4pAp22494dTr",
        "outputId": "f3787546-0bc7-465c-c7cb-c29c4627c456"
      },
      "execution_count": 28,
      "outputs": [
        {
          "output_type": "execute_result",
          "data": {
            "text/html": [
              "\n",
              "  <div id=\"df-a3086380-4903-4fc6-8a3f-2941763661aa\">\n",
              "    <div class=\"colab-df-container\">\n",
              "      <div>\n",
              "<style scoped>\n",
              "    .dataframe tbody tr th:only-of-type {\n",
              "        vertical-align: middle;\n",
              "    }\n",
              "\n",
              "    .dataframe tbody tr th {\n",
              "        vertical-align: top;\n",
              "    }\n",
              "\n",
              "    .dataframe thead th {\n",
              "        text-align: right;\n",
              "    }\n",
              "</style>\n",
              "<table border=\"1\" class=\"dataframe\">\n",
              "  <thead>\n",
              "    <tr style=\"text-align: right;\">\n",
              "      <th></th>\n",
              "      <th>Cohort</th>\n",
              "      <th>ID</th>\n",
              "      <th>...</th>\n",
              "      <th>Baseline_category_Num_SeroPos_strains</th>\n",
              "      <th>Composite_baseline</th>\n",
              "    </tr>\n",
              "  </thead>\n",
              "  <tbody>\n",
              "    <tr>\n",
              "      <th>0</th>\n",
              "      <td>UGA1</td>\n",
              "      <td>A10</td>\n",
              "      <td>...</td>\n",
              "      <td>High</td>\n",
              "      <td>35.0</td>\n",
              "    </tr>\n",
              "    <tr>\n",
              "      <th>1</th>\n",
              "      <td>UGA1</td>\n",
              "      <td>A100</td>\n",
              "      <td>...</td>\n",
              "      <td>Low</td>\n",
              "      <td>18.0</td>\n",
              "    </tr>\n",
              "    <tr>\n",
              "      <th>2</th>\n",
              "      <td>UGA1</td>\n",
              "      <td>A101</td>\n",
              "      <td>...</td>\n",
              "      <td>Low</td>\n",
              "      <td>21.0</td>\n",
              "    </tr>\n",
              "    <tr>\n",
              "      <th>3</th>\n",
              "      <td>UGA1</td>\n",
              "      <td>A102</td>\n",
              "      <td>...</td>\n",
              "      <td>High</td>\n",
              "      <td>25.0</td>\n",
              "    </tr>\n",
              "    <tr>\n",
              "      <th>4</th>\n",
              "      <td>UGA1</td>\n",
              "      <td>A103</td>\n",
              "      <td>...</td>\n",
              "      <td>High</td>\n",
              "      <td>21.0</td>\n",
              "    </tr>\n",
              "  </tbody>\n",
              "</table>\n",
              "<p>5 rows × 37 columns</p>\n",
              "</div>\n",
              "      <button class=\"colab-df-convert\" onclick=\"convertToInteractive('df-a3086380-4903-4fc6-8a3f-2941763661aa')\"\n",
              "              title=\"Convert this dataframe to an interactive table.\"\n",
              "              style=\"display:none;\">\n",
              "        \n",
              "  <svg xmlns=\"http://www.w3.org/2000/svg\" height=\"24px\"viewBox=\"0 0 24 24\"\n",
              "       width=\"24px\">\n",
              "    <path d=\"M0 0h24v24H0V0z\" fill=\"none\"/>\n",
              "    <path d=\"M18.56 5.44l.94 2.06.94-2.06 2.06-.94-2.06-.94-.94-2.06-.94 2.06-2.06.94zm-11 1L8.5 8.5l.94-2.06 2.06-.94-2.06-.94L8.5 2.5l-.94 2.06-2.06.94zm10 10l.94 2.06.94-2.06 2.06-.94-2.06-.94-.94-2.06-.94 2.06-2.06.94z\"/><path d=\"M17.41 7.96l-1.37-1.37c-.4-.4-.92-.59-1.43-.59-.52 0-1.04.2-1.43.59L10.3 9.45l-7.72 7.72c-.78.78-.78 2.05 0 2.83L4 21.41c.39.39.9.59 1.41.59.51 0 1.02-.2 1.41-.59l7.78-7.78 2.81-2.81c.8-.78.8-2.07 0-2.86zM5.41 20L4 18.59l7.72-7.72 1.47 1.35L5.41 20z\"/>\n",
              "  </svg>\n",
              "      </button>\n",
              "      \n",
              "  <style>\n",
              "    .colab-df-container {\n",
              "      display:flex;\n",
              "      flex-wrap:wrap;\n",
              "      gap: 12px;\n",
              "    }\n",
              "\n",
              "    .colab-df-convert {\n",
              "      background-color: #E8F0FE;\n",
              "      border: none;\n",
              "      border-radius: 50%;\n",
              "      cursor: pointer;\n",
              "      display: none;\n",
              "      fill: #1967D2;\n",
              "      height: 32px;\n",
              "      padding: 0 0 0 0;\n",
              "      width: 32px;\n",
              "    }\n",
              "\n",
              "    .colab-df-convert:hover {\n",
              "      background-color: #E2EBFA;\n",
              "      box-shadow: 0px 1px 2px rgba(60, 64, 67, 0.3), 0px 1px 3px 1px rgba(60, 64, 67, 0.15);\n",
              "      fill: #174EA6;\n",
              "    }\n",
              "\n",
              "    [theme=dark] .colab-df-convert {\n",
              "      background-color: #3B4455;\n",
              "      fill: #D2E3FC;\n",
              "    }\n",
              "\n",
              "    [theme=dark] .colab-df-convert:hover {\n",
              "      background-color: #434B5C;\n",
              "      box-shadow: 0px 1px 3px 1px rgba(0, 0, 0, 0.15);\n",
              "      filter: drop-shadow(0px 1px 2px rgba(0, 0, 0, 0.3));\n",
              "      fill: #FFFFFF;\n",
              "    }\n",
              "  </style>\n",
              "\n",
              "      <script>\n",
              "        const buttonEl =\n",
              "          document.querySelector('#df-a3086380-4903-4fc6-8a3f-2941763661aa button.colab-df-convert');\n",
              "        buttonEl.style.display =\n",
              "          google.colab.kernel.accessAllowed ? 'block' : 'none';\n",
              "\n",
              "        async function convertToInteractive(key) {\n",
              "          const element = document.querySelector('#df-a3086380-4903-4fc6-8a3f-2941763661aa');\n",
              "          const dataTable =\n",
              "            await google.colab.kernel.invokeFunction('convertToInteractive',\n",
              "                                                     [key], {});\n",
              "          if (!dataTable) return;\n",
              "\n",
              "          const docLinkHtml = 'Like what you see? Visit the ' +\n",
              "            '<a target=\"_blank\" href=https://colab.research.google.com/notebooks/data_table.ipynb>data table notebook</a>'\n",
              "            + ' to learn more about interactive tables.';\n",
              "          element.innerHTML = '';\n",
              "          dataTable['output_type'] = 'display_data';\n",
              "          await google.colab.output.renderOutput(dataTable, element);\n",
              "          const docLink = document.createElement('div');\n",
              "          docLink.innerHTML = docLinkHtml;\n",
              "          element.appendChild(docLink);\n",
              "        }\n",
              "      </script>\n",
              "    </div>\n",
              "  </div>\n",
              "  "
            ],
            "text/plain": [
              "  Cohort    ID  ...  Baseline_category_Num_SeroPos_strains  Composite_baseline\n",
              "0   UGA1   A10  ...                                   High                35.0\n",
              "1   UGA1  A100  ...                                    Low                18.0\n",
              "2   UGA1  A101  ...                                    Low                21.0\n",
              "3   UGA1  A102  ...                                   High                25.0\n",
              "4   UGA1  A103  ...                                   High                21.0\n",
              "\n",
              "[5 rows x 37 columns]"
            ]
          },
          "metadata": {},
          "execution_count": 28
        }
      ]
    },
    {
      "cell_type": "code",
      "source": [
        "for column in df:\n",
        "  print(column, sorted(df[column].unique()))"
      ],
      "metadata": {
        "colab": {
          "base_uri": "https://localhost:8080/"
        },
        "id": "s1EvAYEe8V_v",
        "outputId": "f756f3a1-0716-47e9-8910-979f7af1df80"
      },
      "execution_count": 29,
      "outputs": [
        {
          "output_type": "stream",
          "name": "stdout",
          "text": [
            "Cohort ['UGA1', 'UGA2', 'UGA3', 'UGA4', 'UGA5']\n",
            "ID ['A1', 'A10', 'A100', 'A101', 'A102', 'A103', 'A104', 'A105', 'A106', 'A107', 'A108', 'A109', 'A11', 'A110', 'A111', 'A112', 'A113', 'A114', 'A115', 'A116', 'A118', 'A119', 'A120', 'A122', 'A123', 'A124', 'A125', 'A126', 'A127', 'A128', 'A129', 'A13', 'A130', 'A131', 'A132', 'A133', 'A134', 'A135', 'A136', 'A137', 'A138', 'A139', 'A14', 'A140', 'A141', 'A142', 'A143', 'A144', 'A145', 'A146', 'A147', 'A148', 'A149', 'A15', 'A150', 'A151', 'A152', 'A154', 'A155', 'A156', 'A157', 'A158', 'A16', 'A160', 'A161', 'A162', 'A163', 'A165', 'A166', 'A168', 'A169', 'A17', 'A170', 'A171', 'A172', 'A174', 'A175', 'A176', 'A177', 'A178', 'A179', 'A18', 'A180', 'A181', 'A182', 'A184', 'A185', 'A186', 'A188', 'A19', 'A190', 'A191', 'A192', 'A193', 'A194', 'A195', 'A196', 'A197', 'A199', 'A2', 'A20', 'A200', 'A201', 'A203', 'A204', 'A205', 'A206', 'A207', 'A208', 'A209', 'A21', 'A210', 'A211', 'A212', 'A213', 'A214', 'A215', 'A216', 'A217', 'A218', 'A219', 'A22', 'A220', 'A221', 'A222', 'A223', 'A224', 'A225', 'A226', 'A227', 'A228', 'A229', 'A230', 'A231', 'A232', 'A233', 'A234', 'A235', 'A236', 'A237', 'A238', 'A239', 'A241', 'A243', 'A244', 'A245', 'A246', 'A247', 'A248', 'A249', 'A25', 'A250', 'A251', 'A252', 'A253', 'A254', 'A255', 'A257', 'A26', 'A260', 'A261', 'A262', 'A263', 'A264', 'A266', 'A267', 'A268', 'A269', 'A270', 'A271', 'A272', 'A273', 'A274', 'A275', 'A276', 'A277', 'A278', 'A279', 'A28', 'A280', 'A281', 'A282', 'A283', 'A284', 'A285', 'A286', 'A287', 'A288', 'A289', 'A29', 'A290', 'A291', 'A292', 'A293', 'A294', 'A295', 'A296', 'A297', 'A298', 'A299', 'A30', 'A300', 'A302', 'A303', 'A304', 'A305', 'A306', 'A307', 'A308', 'A309', 'A31', 'A310', 'A311', 'A312', 'A313', 'A314', 'A315', 'A316', 'A317', 'A318', 'A319', 'A32', 'A320', 'A321', 'A322', 'A323', 'A324', 'A325', 'A326', 'A327', 'A328', 'A329', 'A33', 'A330', 'A331', 'A332', 'A333', 'A334', 'A335', 'A336', 'A337', 'A338', 'A339', 'A34', 'A340', 'A341', 'A342', 'A343', 'A344', 'A345', 'A346', 'A347', 'A348', 'A349', 'A350', 'A351', 'A352', 'A353', 'A354', 'A355', 'A356', 'A357', 'A358', 'A359', 'A36', 'A360', 'A362', 'A363', 'A364', 'A365', 'A366', 'A367', 'A368', 'A369', 'A37', 'A370', 'A371', 'A372', 'A373', 'A374', 'A375', 'A376', 'A378', 'A379', 'A38', 'A380', 'A381', 'A383', 'A384', 'A385', 'A386', 'A387', 'A388', 'A389', 'A39', 'A390', 'A391', 'A392', 'A393', 'A394', 'A395', 'A396', 'A397', 'A399', 'A4', 'A400', 'A401', 'A402', 'A403', 'A404', 'A405', 'A406', 'A407', 'A408', 'A409', 'A410', 'A411', 'A412', 'A413', 'A414', 'A415', 'A416', 'A417', 'A418', 'A419', 'A42', 'A420', 'A421', 'A422', 'A423', 'A424', 'A425', 'A426', 'A427', 'A428', 'A429', 'A430', 'A431', 'A432', 'A433', 'A434', 'A436', 'A437', 'A438', 'A439', 'A44', 'A440', 'A441', 'A442', 'A443', 'A444', 'A445', 'A446', 'A447', 'A448', 'A449', 'A45', 'A450', 'A451', 'A452', 'A453', 'A454', 'A455', 'A456', 'A457', 'A458', 'A459', 'A46', 'A460', 'A461', 'A462', 'A463', 'A464', 'A465', 'A466', 'A467', 'A468', 'A469', 'A47', 'A470', 'A471', 'A472', 'A473', 'A474', 'A475', 'A476', 'A477', 'A478', 'A479', 'A48', 'A480', 'A481', 'A482', 'A483', 'A484', 'A485', 'A486', 'A487', 'A488', 'A489', 'A49', 'A490', 'A491', 'A492', 'A493', 'A494', 'A495', 'A496', 'A497', 'A498', 'A499', 'A5', 'A50', 'A500', 'A501', 'A502', 'A503', 'A504', 'A506', 'A507', 'A508', 'A509', 'A51', 'A510', 'A511', 'A512', 'A514', 'A516', 'A517', 'A518', 'A519', 'A52', 'A521', 'A522', 'A523', 'A524', 'A525', 'A527', 'A528', 'A529', 'A53', 'A531', 'A535', 'A539', 'A54', 'A540', 'A542', 'A549', 'A55', 'A56', 'A57', 'A58', 'A59', 'A60', 'A61', 'A62', 'A63', 'A64', 'A65', 'A66', 'A67', 'A68', 'A69', 'A7', 'A70', 'A71', 'A72', 'A73', 'A74', 'A75', 'A76', 'A77', 'A78', 'A79', 'A8', 'A81', 'A83', 'A84', 'A85', 'A86', 'A87', 'A88', 'A89', 'A9', 'A90', 'A91', 'A92', 'A93', 'A94', 'A95', 'A96', 'A97', 'A98', 'A99', 'C1', 'C10', 'C102', 'C103', 'C105', 'C106', 'C107', 'C108', 'C11', 'C110', 'C112', 'C113', 'C115', 'C116', 'C117', 'C118', 'C119', 'C12', 'C120', 'C121', 'C123', 'C124', 'C125', 'C126', 'C127', 'C128', 'C129', 'C13', 'C130', 'C133', 'C134', 'C136', 'C137', 'C138', 'C14', 'C141', 'C142', 'C143', 'C144', 'C145', 'C147', 'C148', 'C149', 'C15', 'C150', 'C151', 'C152', 'C153', 'C154', 'C155', 'C156', 'C157', 'C158', 'C159', 'C16', 'C160', 'C161', 'C162', 'C163', 'C165', 'C166', 'C167', 'C168', 'C169', 'C17', 'C170', 'C171', 'C172', 'C173', 'C174', 'C175', 'C178', 'C18', 'C180', 'C181', 'C182', 'C185', 'C186', 'C188', 'C190', 'C191', 'C192', 'C195', 'C196', 'C197', 'C198', 'C199', 'C20', 'C200', 'C202', 'C204', 'C207', 'C208', 'C21', 'C210', 'C22', 'C23', 'C24', 'C26', 'C27', 'C28', 'C29', 'C30', 'C31', 'C32', 'C33', 'C34', 'C35', 'C36', 'C37', 'C38', 'C39', 'C4', 'C40', 'C41', 'C42', 'C43', 'C44', 'C45', 'C46', 'C48', 'C49', 'C5', 'C50', 'C51', 'C52', 'C53', 'C54', 'C55', 'C56', 'C57', 'C58', 'C59', 'C6', 'C60', 'C61', 'C62', 'C64', 'C68', 'C69', 'C7', 'C70', 'C71', 'C72', 'C73', 'C74', 'C76', 'C77', 'C78', 'C8', 'C81', 'C83', 'C84', 'C85', 'C86', 'C87', 'C9', 'C90', 'C92', 'C93', 'C94', 'C96', 'C97', 'C99']\n",
            "Age [11, 12, 13, 14, 15, 16, 17, 18, 19, 20, 21, 22, 23, 24, 25, 26, 27, 28, 29, 30, 31, 32, 33, 34, 35, 36, 37, 38, 39, 40, 41, 42, 43, 44, 45, 46, 47, 48, 49, 50, 51, 52, 53, 54, 55, 56, 57, 58, 59, 60, 61, 62, 63, 64, 65, 66, 67, 68, 69, 70, 71, 72, 73, 74, 75, 76, 77, 78, 79, 80, 81, 82, 83, 85]\n",
            "BMI [14.54, 14.79, 14.86, 15.8, 15.84, 16.07, 16.46, 16.62, 16.7, 16.74, 16.79, 16.94, 17.06, 17.15, 17.36, 17.42, 17.43, 17.44, 17.45, 17.52, 17.57, 17.74, 17.75, 17.84, 17.92, 17.93, 18.12, 18.13, 18.17, 18.22, 18.23, 18.25, 18.27, 18.3, 18.32, 18.38, 18.43, 18.45, 18.46, 18.47, 18.48, 18.5, 18.52, 18.56, 18.61, 18.62, 18.63, 18.69, 18.74, 18.75, 18.76, 18.78, 18.79, 18.8, 18.81, 18.83, 18.86, 18.88, 18.97, 19.02, 19.06, 19.08, 19.09, 19.11, 19.14, 19.16, 19.17, 19.18, 19.19, 19.2, 19.23, 19.24, 19.26, 19.29, 19.3, 19.33, 19.35, 19.37, 19.39, 19.42, 19.44, 19.46, 19.47, 19.49, 19.54, 19.57, 19.58, 19.6, 19.62, 19.64, 19.67, 19.68, 19.69, 19.7, 19.71, 19.74, 19.75, 19.77, 19.8, 19.81, 19.82, 19.87, 19.88, 19.9, 19.91, 19.98, 19.99, 20.0, 20.01, 20.03, 20.05, 20.06, 20.08, 20.09, 20.1, 20.11, 20.14, 20.17, 20.19, 20.2, 20.23, 20.24, 20.25, 20.26, 20.27, 20.29, 20.31, 20.34, 20.35, 20.36, 20.4, 20.41, 20.45, 20.46, 20.49, 20.5, 20.51, 20.54, 20.55, 20.56, 20.58, 20.59, 20.61, 20.62, 20.64, 20.66, 20.69, 20.7, 20.72, 20.73, 20.76, 20.78, 20.81, 20.82, 20.84, 20.86, 20.88, 20.9, 20.91, 20.94, 20.95, 20.97, 20.98, 20.99, 21.03, 21.04, 21.05, 21.06, 21.07, 21.08, 21.09, 21.1, 21.12, 21.14, 21.16, 21.18, 21.23, 21.24, 21.25, 21.26, 21.28, 21.29, 21.3, 21.32, 21.33, 21.34, 21.39, 21.42, 21.44, 21.45, 21.51, 21.54, 21.55, 21.56, 21.57, 21.58, 21.6, 21.63, 21.64, 21.66, 21.68, 21.69, 21.74, 21.75, 21.76, 21.77, 21.78, 21.79, 21.81, 21.84, 21.85, 21.91, 21.96, 21.98, 21.99, 22.0, 22.02, 22.03, 22.06, 22.07, 22.09, 22.1, 22.12, 22.13, 22.14, 22.15, 22.18, 22.19, 22.2, 22.21, 22.22, 22.23, 22.25, 22.27, 22.28, 22.29, 22.3, 22.31, 22.32, 22.33, 22.36, 22.38, 22.41, 22.42, 22.44, 22.45, 22.46, 22.5, 22.51, 22.52, 22.53, 22.54, 22.55, 22.56, 22.57, 22.58, 22.59, 22.6, 22.63, 22.65, 22.66, 22.67, 22.68, 22.69, 22.75, 22.78, 22.81, 22.82, 22.86, 22.87, 22.88, 22.9, 22.93, 22.94, 22.96, 22.98, 23.0, 23.01, 23.03, 23.05, 23.06, 23.08, 23.09, 23.1, 23.12, 23.13, 23.14, 23.15, 23.16, 23.18, 23.2, 23.21, 23.23, 23.24, 23.25, 23.28, 23.29, 23.3, 23.31, 23.34, 23.37, 23.4, 23.41, 23.42, 23.44, 23.45, 23.46, 23.49, 23.5, 23.52, 23.54, 23.6, 23.61, 23.62, 23.66, 23.68, 23.7, 23.71, 23.72, 23.74, 23.75, 23.76, 23.77, 23.8, 23.83, 23.84, 23.88, 23.9, 23.91, 23.92, 23.93, 23.94, 23.95, 23.96, 23.97, 24.0, 24.02, 24.03, 24.04, 24.06, 24.07, 24.08, 24.09, 24.11, 24.12, 24.14, 24.15, 24.19, 24.21, 24.23, 24.24, 24.25, 24.28, 24.31, 24.33, 24.36, 24.4, 24.41, 24.42, 24.43, 24.44, 24.45, 24.46, 24.47, 24.5, 24.55, 24.58, 24.61, 24.62, 24.63, 24.67, 24.69, 24.7, 24.72, 24.73, 24.74, 24.77, 24.79, 24.8, 24.81, 24.82, 24.85, 24.86, 24.87, 24.89, 24.91, 24.93, 24.94, 24.95, 24.96, 24.97, 24.98, 24.99, 25.0, 25.03, 25.05, 25.06, 25.07, 25.09, 25.1, 25.12, 25.13, 25.18, 25.22, 25.23, 25.24, 25.29, 25.3, 25.31, 25.32, 25.33, 25.34, 25.37, 25.38, 25.39, 25.4, 25.42, 25.43, 25.44, 25.47, 25.48, 25.5, 25.55, 25.56, 25.57, 25.59, 25.6, 25.61, 25.62, 25.64, 25.66, 25.67, 25.68, 25.71, 25.73, 25.74, 25.76, 25.79, 25.81, 25.83, 25.84, 25.88, 25.89, 25.9, 25.93, 25.94, 25.96, 25.97, 25.98, 25.99, 26.0, 26.01, 26.03, 26.04, 26.1, 26.12, 26.14, 26.15, 26.16, 26.2, 26.21, 26.22, 26.27, 26.28, 26.3, 26.31, 26.33, 26.34, 26.35, 26.36, 26.38, 26.39, 26.4, 26.41, 26.42, 26.49, 26.51, 26.52, 26.55, 26.57, 26.58, 26.61, 26.62, 26.63, 26.64, 26.65, 26.66, 26.69, 26.7, 26.72, 26.8, 26.81, 26.84, 26.86, 26.87, 26.88, 26.89, 26.9, 26.92, 26.94, 26.95, 26.97, 26.98, 27.0, 27.02, 27.03, 27.04, 27.07, 27.08, 27.1, 27.11, 27.12, 27.14, 27.16, 27.17, 27.21, 27.24, 27.26, 27.27, 27.28, 27.29, 27.3, 27.31, 27.33, 27.34, 27.36, 27.37, 27.38, 27.41, 27.42, 27.45, 27.48, 27.49, 27.5, 27.53, 27.55, 27.57, 27.58, 27.59, 27.61, 27.64, 27.65, 27.67, 27.68, 27.71, 27.73, 27.74, 27.75, 27.79, 27.81, 27.82, 27.84, 27.85, 27.86, 27.9, 27.91, 27.93, 27.94, 27.95, 27.98, 27.99, 28.01, 28.02, 28.03, 28.05, 28.06, 28.07, 28.08, 28.11, 28.12, 28.13, 28.15, 28.17, 28.18, 28.19, 28.21, 28.22, 28.23, 28.25, 28.27, 28.3, 28.31, 28.34, 28.35, 28.44, 28.45, 28.46, 28.47, 28.49, 28.5, 28.51, 28.52, 28.53, 28.57, 28.59, 28.61, 28.63, 28.65, 28.67, 28.69, 28.7, 28.71, 28.76, 28.82, 28.83, 28.84, 28.85, 28.88, 28.89, 28.9, 28.93, 28.94, 28.96, 28.97, 28.99, 29.0, 29.01, 29.03, 29.07, 29.08, 29.1, 29.12, 29.13, 29.14, 29.16, 29.17, 29.18, 29.19, 29.2, 29.25, 29.26, 29.27, 29.29, 29.3, 29.33, 29.34, 29.35, 29.37, 29.38, 29.39, 29.4, 29.41, 29.52, 29.53, 29.54, 29.57, 29.59, 29.63, 29.7, 29.72, 29.73, 29.77, 29.78, 29.8, 29.82, 29.84, 29.85, 29.87, 29.9, 29.96, 29.97, 29.98, 30.07, 30.08, 30.1, 30.14, 30.18, 30.2, 30.21, 30.22, 30.25, 30.26, 30.27, 30.34, 30.35, 30.38, 30.43, 30.44, 30.47, 30.51, 30.52, 30.54, 30.57, 30.6, 30.61, 30.62, 30.63, 30.64, 30.7, 30.72, 30.74, 30.78, 30.79, 30.82, 30.86, 30.9, 30.93, 30.94, 30.95, 30.98, 30.99, 31.06, 31.09, 31.13, 31.15, 31.17, 31.2, 31.21, 31.23, 31.25, 31.29, 31.32, 31.35, 31.39, 31.4, 31.41, 31.45, 31.46, 31.48, 31.52, 31.55, 31.57, 31.58, 31.59, 31.6, 31.61, 31.64, 31.66, 31.7, 31.71, 31.72, 31.73, 31.74, 31.75, 31.77, 31.78, 31.8, 31.86, 31.91, 31.94, 31.95, 31.98, 31.99, 32.02, 32.03, 32.09, 32.12, 32.13, 32.14, 32.21, 32.23, 32.25, 32.26, 32.32, 32.37, 32.38, 32.43, 32.45, 32.48, 32.55, 32.56, 32.58, 32.59, 32.68, 32.69, 32.75, 32.76, 32.78, 32.81, 32.82, 32.85, 32.86, 32.88, 32.9, 32.94, 32.98, 33.02, 33.04, 33.12, 33.14, 33.15, 33.19, 33.2, 33.23, 33.32, 33.35, 33.36, 33.37, 33.38, 33.4, 33.45, 33.47, 33.49, 33.51, 33.54, 33.6, 33.62, 33.65, 33.67, 33.71, 33.79, 33.84, 33.9, 33.93, 33.96, 34.04, 34.12, 34.18, 34.22, 34.26, 34.27, 34.33, 34.34, 34.35, 34.36, 34.37, 34.44, 34.54, 34.56, 34.6, 34.64, 34.65, 34.7, 34.71, 34.74, 34.77, 34.85, 34.88, 34.89, 34.91, 35.0, 35.04, 35.09, 35.15, 35.23, 35.29, 35.38, 35.45, 35.47, 35.48, 35.53, 35.62, 35.65, 35.71, 35.74, 35.76, 35.84, 35.89, 35.98, 36.05, 36.13, 36.15, 36.16, 36.2, 36.22, 36.32, 36.33, 36.37, 36.39, 36.44, 36.47, 36.57, 36.65, 36.66, 36.7, 36.75, 36.78, 36.8, 36.87, 36.89, 36.92, 36.98, 36.99, 37.06, 37.1, 37.22, 37.28, 37.36, 37.46, 37.47, 37.59, 37.66, 37.68, 37.74, 37.8, 38.05, 38.09, 38.13, 38.35, 38.38, 38.4, 38.43, 38.46, 38.56, 38.61, 38.66, 38.7, 38.84, 38.93, 38.95, 39.07, 39.13, 39.15, 39.29, 39.37, 39.57, 39.62, 39.68, 39.76, 39.93, 40.1, 40.15, 40.26, 40.68, 40.79, 40.93, 40.94, 41.01, 41.11, 41.13, 41.36, 41.44, 41.47, 41.6, 41.64, 41.76, 41.92, 42.1, 42.72, 42.87, 43.33, 43.75, 44.23, 44.43, 44.66, 44.79, 45.05, 45.48, 45.71, 45.81, 45.82, 46.28, 46.71, 48.74, 48.85, 49.03, 49.22, 49.34, 49.76, 50.49, 50.56, 52.14, 52.24, 52.61, 52.84, 59.11, 59.63, 59.88]\n",
            "BMI_category ['Lean', 'Normal', 'Normal ', 'Obese', 'Obese ', 'Overweight']\n",
            "Gender ['Female', 'Male']\n",
            "Race ['Non-white', 'White']\n",
            "Comorbidities ['No', 'Yes']\n",
            "PreVacc_status ['Naive', 'Prevaccinated']\n",
            "PreVacc_status_year ['Year_0', 'Year_3']\n",
            "Month_vaccinated ['Dec.', 'Feb.', 'Jan.', 'Nov.', 'Oct.', 'Sep.']\n",
            "Vaccine_dose ['High', 'Standard']\n",
            "D0_Titer_H1N1 [5, 10, 20, 40, 80, 160, 320, 640, 1280]\n",
            "D28_Titer_H1N1 [5, 10, 20, 40, 80, 160, 320, 640, 1280, 2560]\n",
            "D0_Titer_H3N2 [5, 10, 20, 40, 80, 160, 320, 640, 1280]\n",
            "D28_Titer_H3N2 [5, 10, 20, 40, 50, 80, 120, 160, 200, 320, 640, 960, 1280, 2560]\n",
            "D0_Titer_IBV_Yam [5, 10, 20, 40, 80, 160, 320, 640, 1280, 2560]\n",
            "D28_Titer_IBV_Yam [5, 10, 20, 40, 80, 160, 320, 640, 1280, 2560, 5120]\n",
            "D0_Titer_IBV_Vic [5, 10, 20, 40, 80, 160, 320, 640]\n",
            "D28_Titer_IBV_Vic [5, 10, 20, 40, 50, 80, 160, 320, 640, 1280, 2560]\n",
            "Seroconversion_H1N1 [-3, -2, -1, 0, 1, 2, 3, 4, 5, 6, 7, 8, 9]\n",
            "Seroconversion_H3N2 [-2.0, -1.0, 0.0, 1.0, 2.0, 2.32, 2.58, 3.0, 4.0, 4.58, 5.0, 5.58, 6.0, 7.0, 8.0]\n",
            "Seroconversion_IBV_Yam [-5, -3, -2, -1, 0, 1, 2, 3, 4, 5, 6, 7]\n",
            "Seroconversion_IBV_Vic [-3.0, -2.0, -1.0, 0.0, 1.0, 2.0, 2.32, 3.0, 4.0, 5.0, 6.0, 7.0, 8.0]\n",
            "Composite_seroconversion [-6.0, -5.0, -4.0, -3.0, -2.0, -1.0, 0.0, 1.0, 2.0, 3.0, 3.58, 4.0, 5.0, 5.32, 6.0, 7.0, 7.32, 7.58, 8.0, 8.32, 8.58, 9.0, 10.0, 11.0, 12.0, 13.0, 14.0, 15.0, 16.0, 17.0, 18.0, 19.0, 20.0, 21.0, 22.0, 23.0, 24.0, 25.0]\n",
            "SC_category_H1N1 ['High', 'Low', 'None']\n",
            "SC_category_H3N2 ['High', 'Low', 'None']\n",
            "SC_category_IBV_Yam ['High', 'Low', 'None']\n",
            "SC_category_IBV_Vic ['High', 'Low', 'None']\n",
            "Composite_SC_category ['High', 'Low', 'None']\n",
            "Serostatus_H1N1 [0, 1]\n",
            "Serostatus_H3N2 [0, 1]\n",
            "Serostatus_IBV_Yam [0, 1]\n",
            "Serostatus_IBV_Vic [0, 1]\n",
            "Num_SeroPos_strains [0, 1, 2, 3, 4]\n",
            "Baseline_category_Num_SeroPos_strains ['High', 'Low']\n",
            "Composite_baseline [9.0, 9.29, 10.0, 10.29, 11.0, 11.29, 12.0, 12.29, 13.0, 13.29, 14.0, 14.29, 15.0, 15.29, 16.0, 16.29, 17.0, 17.29, 18.0, 18.29, 19.0, 19.29, 20.0, 20.29, 21.0, 21.29, 22.0, 22.29, 23.0, 23.29, 24.0, 24.29, 25.0, 25.29, 26.0, 26.29, 27.0, 27.29, 28.0, 28.29, 29.0, 30.0, 30.29, 31.0, 32.0, 32.29, 33.0, 34.0, 35.0]\n"
          ]
        }
      ]
    },
    {
      "cell_type": "markdown",
      "source": [
        "Of all the numerical values, $\\texttt{Age}$ and $\\texttt{BMI}$ are obviously non-categorical. Need to investigate other numerical columns.\n",
        "# \"$\\texttt{Titer}$\" columns:"
      ],
      "metadata": {
        "id": "5zjng1EPA9A1"
      }
    },
    {
      "cell_type": "code",
      "source": [
        "for column in df:\n",
        "  if \"Titer\" not in column:\n",
        "    continue\n",
        "  print(column, df[column].describe(), sep=\"\\n\")\n",
        "  df[column].value_counts().sort_index().plot(kind=\"bar\",xlabel=\"titer\",ylabel=\"frequency\")\n",
        "  plt.show()\n"
      ],
      "metadata": {
        "colab": {
          "base_uri": "https://localhost:8080/",
          "height": 1000
        },
        "id": "ujFMidjq-Vlh",
        "outputId": "0307a70c-3c8c-48c6-c367-2918e14ba756"
      },
      "execution_count": 30,
      "outputs": [
        {
          "output_type": "stream",
          "name": "stdout",
          "text": [
            "D0_Titer_H1N1\n",
            "count    1368.000000\n",
            "mean       77.825292\n",
            "std       128.857325\n",
            "min         5.000000\n",
            "25%        10.000000\n",
            "50%        40.000000\n",
            "75%        80.000000\n",
            "max      1280.000000\n",
            "Name: D0_Titer_H1N1, dtype: float64\n"
          ]
        },
        {
          "output_type": "display_data",
          "data": {
            "image/png": "[encoded data removed]",
            "text/plain": [
              "<Figure size 432x288 with 1 Axes>"
            ]
          },
          "metadata": {
            "needs_background": "light"
          }
        },
        {
          "output_type": "stream",
          "name": "stdout",
          "text": [
            "D28_Titer_H1N1\n",
            "count    1368.000000\n",
            "mean      176.907895\n",
            "std       284.212384\n",
            "min         5.000000\n",
            "25%        40.000000\n",
            "50%        80.000000\n",
            "75%       160.000000\n",
            "max      2560.000000\n",
            "Name: D28_Titer_H1N1, dtype: float64\n"
          ]
        },
        {
          "output_type": "display_data",
          "data": {
            "image/png": "[encoded data removed]",
            "text/plain": [
              "<Figure size 432x288 with 1 Axes>"
            ]
          },
          "metadata": {
            "needs_background": "light"
          }
        },
        {
          "output_type": "stream",
          "name": "stdout",
          "text": [
            "D0_Titer_H3N2\n",
            "count    1368.000000\n",
            "mean       88.695175\n",
            "std       153.554796\n",
            "min         5.000000\n",
            "25%        10.000000\n",
            "50%        40.000000\n",
            "75%        80.000000\n",
            "max      1280.000000\n",
            "Name: D0_Titer_H3N2, dtype: float64\n"
          ]
        },
        {
          "output_type": "display_data",
          "data": {
            "image/png": "[encoded data removed]",
            "text/plain": [
              "<Figure size 432x288 with 1 Axes>"
            ]
          },
          "metadata": {
            "needs_background": "light"
          }
        },
        {
          "output_type": "stream",
          "name": "stdout",
          "text": [
            "D28_Titer_H3N2\n",
            "count    1368.000000\n",
            "mean      199.177632\n",
            "std       287.506750\n",
            "min         5.000000\n",
            "25%        40.000000\n",
            "50%        80.000000\n",
            "75%       320.000000\n",
            "max      2560.000000\n",
            "Name: D28_Titer_H3N2, dtype: float64\n"
          ]
        },
        {
          "output_type": "display_data",
          "data": {
            "image/png": "[encoded data removed]",
            "text/plain": [
              "<Figure size 432x288 with 1 Axes>"
            ]
          },
          "metadata": {
            "needs_background": "light"
          }
        },
        {
          "output_type": "stream",
          "name": "stdout",
          "text": [
            "D0_Titer_IBV_Yam\n",
            "count    1368.000000\n",
            "mean      113.103070\n",
            "std       191.957064\n",
            "min         5.000000\n",
            "25%        20.000000\n",
            "50%        80.000000\n",
            "75%       160.000000\n",
            "max      2560.000000\n",
            "Name: D0_Titer_IBV_Yam, dtype: float64\n"
          ]
        },
        {
          "output_type": "display_data",
          "data": {
            "image/png": "[encoded data removed]",
            "text/plain": [
              "<Figure size 432x288 with 1 Axes>"
            ]
          },
          "metadata": {
            "needs_background": "light"
          }
        },
        {
          "output_type": "stream",
          "name": "stdout",
          "text": [
            "D28_Titer_IBV_Yam\n",
            "count    1368.000000\n",
            "mean      205.511696\n",
            "std       310.421631\n",
            "min         5.000000\n",
            "25%        40.000000\n",
            "50%       160.000000\n",
            "75%       320.000000\n",
            "max      5120.000000\n",
            "Name: D28_Titer_IBV_Yam, dtype: float64\n"
          ]
        },
        {
          "output_type": "display_data",
          "data": {
            "image/png": "[encoded data removed]",
            "text/plain": [
              "<Figure size 432x288 with 1 Axes>"
            ]
          },
          "metadata": {
            "needs_background": "light"
          }
        },
        {
          "output_type": "stream",
          "name": "stdout",
          "text": [
            "D0_Titer_IBV_Vic\n",
            "count    1368.000000\n",
            "mean       62.777778\n",
            "std        84.663560\n",
            "min         5.000000\n",
            "25%        10.000000\n",
            "50%        40.000000\n",
            "75%        80.000000\n",
            "max       640.000000\n",
            "Name: D0_Titer_IBV_Vic, dtype: float64\n"
          ]
        },
        {
          "output_type": "display_data",
          "data": {
            "image/png": "[encoded data removed]",
            "text/plain": [
              "<Figure size 432x288 with 1 Axes>"
            ]
          },
          "metadata": {
            "needs_background": "light"
          }
        },
        {
          "output_type": "stream",
          "name": "stdout",
          "text": [
            "D28_Titer_IBV_Vic\n",
            "count    1368.000000\n",
            "mean      140.025585\n",
            "std       226.881589\n",
            "min         5.000000\n",
            "25%        40.000000\n",
            "50%        80.000000\n",
            "75%       160.000000\n",
            "max      2560.000000\n",
            "Name: D28_Titer_IBV_Vic, dtype: float64\n"
          ]
        },
        {
          "output_type": "display_data",
          "data": {
            "image/png": "[encoded data removed]",
            "text/plain": [
              "<Figure size 432x288 with 1 Axes>"
            ]
          },
          "metadata": {
            "needs_background": "light"
          }
        }
      ]
    },
    {
      "cell_type": "markdown",
      "source": [
        "Figues show that titer level is very likely to be normally distributed. And titer is higher on day 28 than on day 0. \\\\\n",
        "**Titer** indicates the concentration of antibody e.g. 160 means a titer of 1:160. The higher it is, the more concentrated the antibody level in blood is. So the values for titer are discrete finite integers with ordering differences, which should be treated as numerical values.\n",
        "\n",
        "Guess: the difference between day 0 and 28, magnitude are responses to the vaccine and should be predicted?\n",
        "\n",
        "*\\\"The result of an antibody titer is generally presented as a ratio. For example, a ratio of 1:200 indicates that diluting one part of the blood sample to 200 parts of the diluent solution (saline) finally leads to an undetectable antibody level in the blood sample.\\\"* cite: https://www.news-medical.net/health/What-is-an-Antibody-Titer.aspx"
      ],
      "metadata": {
        "id": "Wgdc0gOfGZ2O"
      }
    },
    {
      "cell_type": "markdown",
      "source": [
        "# \"**Seroconversion**\" columns"
      ],
      "metadata": {
        "id": "UaZndMgSH3VQ"
      }
    },
    {
      "cell_type": "code",
      "source": [
        "for column in df:\n",
        "  if \"eroconversion\" not in column:\n",
        "    continue\n",
        "  print(column, df[column].describe(),sep=\"\\n\")\n",
        "  df[column].value_counts().sort_index().plot(kind=\"bar\",xlabel=\"seroconversion\",ylabel=\"frequency\") \n",
        "  plt.show()"
      ],
      "metadata": {
        "colab": {
          "base_uri": "https://localhost:8080/",
          "height": 1000
        },
        "id": "KgKhkj--HaJF",
        "outputId": "e001d2a1-8b84-44af-b0e0-ac4d62343323"
      },
      "execution_count": 31,
      "outputs": [
        {
          "output_type": "stream",
          "name": "stdout",
          "text": [
            "Seroconversion_H1N1\n",
            "count    1368.000000\n",
            "mean        1.316520\n",
            "std         1.658466\n",
            "min        -3.000000\n",
            "25%         0.000000\n",
            "50%         1.000000\n",
            "75%         2.000000\n",
            "max         9.000000\n",
            "Name: Seroconversion_H1N1, dtype: float64\n"
          ]
        },
        {
          "output_type": "display_data",
          "data": {
            "image/png": "[encoded data removed]",
            "text/plain": [
              "<Figure size 432x288 with 1 Axes>"
            ]
          },
          "metadata": {
            "needs_background": "light"
          }
        },
        {
          "output_type": "stream",
          "name": "stdout",
          "text": [
            "Seroconversion_H3N2\n",
            "count    1368.000000\n",
            "mean        1.462997\n",
            "std         1.580218\n",
            "min        -2.000000\n",
            "25%         0.000000\n",
            "50%         1.000000\n",
            "75%         2.000000\n",
            "max         8.000000\n",
            "Name: Seroconversion_H3N2, dtype: float64\n"
          ]
        },
        {
          "output_type": "display_data",
          "data": {
            "image/png": "[encoded data removed]",
            "text/plain": [
              "<Figure size 432x288 with 1 Axes>"
            ]
          },
          "metadata": {
            "needs_background": "light"
          }
        },
        {
          "output_type": "stream",
          "name": "stdout",
          "text": [
            "Seroconversion_IBV_Yam\n",
            "count    1368.000000\n",
            "mean        1.026316\n",
            "std         1.378870\n",
            "min        -5.000000\n",
            "25%         0.000000\n",
            "50%         1.000000\n",
            "75%         1.000000\n",
            "max         7.000000\n",
            "Name: Seroconversion_IBV_Yam, dtype: float64\n"
          ]
        },
        {
          "output_type": "display_data",
          "data": {
            "image/png": "[encoded data removed]",
            "text/plain": [
              "<Figure size 432x288 with 1 Axes>"
            ]
          },
          "metadata": {
            "needs_background": "light"
          }
        },
        {
          "output_type": "stream",
          "name": "stdout",
          "text": [
            "Seroconversion_IBV_Vic\n",
            "count    1368.000000\n",
            "mean        1.284591\n",
            "std         1.540705\n",
            "min        -3.000000\n",
            "25%         0.000000\n",
            "50%         1.000000\n",
            "75%         2.000000\n",
            "max         8.000000\n",
            "Name: Seroconversion_IBV_Vic, dtype: float64\n"
          ]
        },
        {
          "output_type": "display_data",
          "data": {
            "image/png": "[encoded data removed]",
            "text/plain": [
              "<Figure size 432x288 with 1 Axes>"
            ]
          },
          "metadata": {
            "needs_background": "light"
          }
        },
        {
          "output_type": "stream",
          "name": "stdout",
          "text": [
            "Composite_seroconversion\n",
            "count    1368.000000\n",
            "mean        5.090424\n",
            "std         4.598735\n",
            "min        -6.000000\n",
            "25%         2.000000\n",
            "50%         4.000000\n",
            "75%         7.000000\n",
            "max        25.000000\n",
            "Name: Composite_seroconversion, dtype: float64\n"
          ]
        },
        {
          "output_type": "display_data",
          "data": {
            "image/png": "[encoded data removed]",
            "text/plain": [
              "<Figure size 432x288 with 1 Axes>"
            ]
          },
          "metadata": {
            "needs_background": "light"
          }
        }
      ]
    },
    {
      "cell_type": "markdown",
      "source": [
        "I couldn't find any information on the indices for this feature and need insights on how to deal with these. Most values are non-negative integers, but some are negative and some are floats. \\\\\n",
        "Guess: also a response to the vaccine and unit is day(s)? \\\\\n",
        "*\\\"Seroconversion is the transition from the point of viral infection to when antibodies of the virus become present in the blood.\\\"* cite: https://www.webmd.com/hiv-aids/what-is-hiv-seroconversion"
      ],
      "metadata": {
        "id": "ZuWoijqfRelE"
      }
    },
    {
      "cell_type": "markdown",
      "source": [
        "# Relations between Titer, seroconversion, SC_category, serostatus"
      ],
      "metadata": {
        "id": "2_4Xao9JL8Oh"
      }
    },
    {
      "cell_type": "code",
      "source": [
        "pd.set_option('display.max_columns', None)"
      ],
      "metadata": {
        "id": "WIhzxCo3eQ0h"
      },
      "execution_count": 32,
      "outputs": []
    },
    {
      "cell_type": "code",
      "source": [
        "print(df[df[\"SC_category_H1N1\"] == \"Low\"][[\"Seroconversion_H1N1\", \"D0_Titer_H1N1\", \"D28_Titer_H1N1\", \"Serostatus_H1N1\"]].describe())\n",
        "print(df[df[\"SC_category_H1N1\"] == \"High\"][[\"Seroconversion_H1N1\", \"D0_Titer_H1N1\", \"D28_Titer_H1N1\", \"Serostatus_H1N1\"]].describe())\n",
        "df[df[\"SC_category_H1N1\"] == \"None\"][[\"Seroconversion_H1N1\", \"D0_Titer_H1N1\", \"D28_Titer_H1N1\", \"Serostatus_H1N1\"]].describe()"
      ],
      "metadata": {
        "colab": {
          "base_uri": "https://localhost:8080/",
          "height": 631
        },
        "id": "FbA0dRkvTbqX",
        "outputId": "a30d570b-beea-4c2c-96f9-ca470c4f5d1c"
      },
      "execution_count": 33,
      "outputs": [
        {
          "output_type": "stream",
          "name": "stdout",
          "text": [
            "       Seroconversion_H1N1  D0_Titer_H1N1  D28_Titer_H1N1  Serostatus_H1N1\n",
            "count                378.0     378.000000      378.000000       378.000000\n",
            "mean                   1.0      66.812169      133.624339         0.597884\n",
            "std                    0.0      93.351730      186.703460         0.490975\n",
            "min                    1.0       5.000000       10.000000         0.000000\n",
            "25%                    1.0      20.000000       40.000000         0.000000\n",
            "50%                    1.0      40.000000       80.000000         1.000000\n",
            "75%                    1.0      80.000000      160.000000         1.000000\n",
            "max                    1.0    1280.000000     2560.000000         1.000000\n",
            "       Seroconversion_H1N1  D0_Titer_H1N1  D28_Titer_H1N1  Serostatus_H1N1\n",
            "count           454.000000     454.000000      454.000000       454.000000\n",
            "mean              3.235683      25.759912      282.026432         0.264317\n",
            "std               1.438805      44.512638      412.105282         0.441455\n",
            "min               2.000000       5.000000       20.000000         0.000000\n",
            "25%               2.000000       5.000000       40.000000         0.000000\n",
            "50%               3.000000      10.000000      160.000000         0.000000\n",
            "75%               4.000000      40.000000      320.000000         1.000000\n",
            "max               9.000000     640.000000     2560.000000         1.000000\n"
          ]
        },
        {
          "output_type": "execute_result",
          "data": {
            "text/html": [
              "\n",
              "  <div id=\"df-40722a2a-daf7-4d7b-abb2-f565eeddb0bd\">\n",
              "    <div class=\"colab-df-container\">\n",
              "      <div>\n",
              "<style scoped>\n",
              "    .dataframe tbody tr th:only-of-type {\n",
              "        vertical-align: middle;\n",
              "    }\n",
              "\n",
              "    .dataframe tbody tr th {\n",
              "        vertical-align: top;\n",
              "    }\n",
              "\n",
              "    .dataframe thead th {\n",
              "        text-align: right;\n",
              "    }\n",
              "</style>\n",
              "<table border=\"1\" class=\"dataframe\">\n",
              "  <thead>\n",
              "    <tr style=\"text-align: right;\">\n",
              "      <th></th>\n",
              "      <th>Seroconversion_H1N1</th>\n",
              "      <th>D0_Titer_H1N1</th>\n",
              "      <th>D28_Titer_H1N1</th>\n",
              "      <th>Serostatus_H1N1</th>\n",
              "    </tr>\n",
              "  </thead>\n",
              "  <tbody>\n",
              "    <tr>\n",
              "      <th>count</th>\n",
              "      <td>536.000000</td>\n",
              "      <td>536.000000</td>\n",
              "      <td>536.000000</td>\n",
              "      <td>536.000000</td>\n",
              "    </tr>\n",
              "    <tr>\n",
              "      <th>mean</th>\n",
              "      <td>-0.085821</td>\n",
              "      <td>129.692164</td>\n",
              "      <td>118.395522</td>\n",
              "      <td>0.720149</td>\n",
              "    </tr>\n",
              "    <tr>\n",
              "      <th>std</th>\n",
              "      <td>0.329407</td>\n",
              "      <td>171.831934</td>\n",
              "      <td>154.598788</td>\n",
              "      <td>0.449345</td>\n",
              "    </tr>\n",
              "    <tr>\n",
              "      <th>min</th>\n",
              "      <td>-3.000000</td>\n",
              "      <td>5.000000</td>\n",
              "      <td>5.000000</td>\n",
              "      <td>0.000000</td>\n",
              "    </tr>\n",
              "    <tr>\n",
              "      <th>25%</th>\n",
              "      <td>0.000000</td>\n",
              "      <td>20.000000</td>\n",
              "      <td>20.000000</td>\n",
              "      <td>0.000000</td>\n",
              "    </tr>\n",
              "    <tr>\n",
              "      <th>50%</th>\n",
              "      <td>0.000000</td>\n",
              "      <td>80.000000</td>\n",
              "      <td>80.000000</td>\n",
              "      <td>1.000000</td>\n",
              "    </tr>\n",
              "    <tr>\n",
              "      <th>75%</th>\n",
              "      <td>0.000000</td>\n",
              "      <td>160.000000</td>\n",
              "      <td>160.000000</td>\n",
              "      <td>1.000000</td>\n",
              "    </tr>\n",
              "    <tr>\n",
              "      <th>max</th>\n",
              "      <td>0.000000</td>\n",
              "      <td>1280.000000</td>\n",
              "      <td>1280.000000</td>\n",
              "      <td>1.000000</td>\n",
              "    </tr>\n",
              "  </tbody>\n",
              "</table>\n",
              "</div>\n",
              "      <button class=\"colab-df-convert\" onclick=\"convertToInteractive('df-40722a2a-daf7-4d7b-abb2-f565eeddb0bd')\"\n",
              "              title=\"Convert this dataframe to an interactive table.\"\n",
              "              style=\"display:none;\">\n",
              "        \n",
              "  <svg xmlns=\"http://www.w3.org/2000/svg\" height=\"24px\"viewBox=\"0 0 24 24\"\n",
              "       width=\"24px\">\n",
              "    <path d=\"M0 0h24v24H0V0z\" fill=\"none\"/>\n",
              "    <path d=\"M18.56 5.44l.94 2.06.94-2.06 2.06-.94-2.06-.94-.94-2.06-.94 2.06-2.06.94zm-11 1L8.5 8.5l.94-2.06 2.06-.94-2.06-.94L8.5 2.5l-.94 2.06-2.06.94zm10 10l.94 2.06.94-2.06 2.06-.94-2.06-.94-.94-2.06-.94 2.06-2.06.94z\"/><path d=\"M17.41 7.96l-1.37-1.37c-.4-.4-.92-.59-1.43-.59-.52 0-1.04.2-1.43.59L10.3 9.45l-7.72 7.72c-.78.78-.78 2.05 0 2.83L4 21.41c.39.39.9.59 1.41.59.51 0 1.02-.2 1.41-.59l7.78-7.78 2.81-2.81c.8-.78.8-2.07 0-2.86zM5.41 20L4 18.59l7.72-7.72 1.47 1.35L5.41 20z\"/>\n",
              "  </svg>\n",
              "      </button>\n",
              "      \n",
              "  <style>\n",
              "    .colab-df-container {\n",
              "      display:flex;\n",
              "      flex-wrap:wrap;\n",
              "      gap: 12px;\n",
              "    }\n",
              "\n",
              "    .colab-df-convert {\n",
              "      background-color: #E8F0FE;\n",
              "      border: none;\n",
              "      border-radius: 50%;\n",
              "      cursor: pointer;\n",
              "      display: none;\n",
              "      fill: #1967D2;\n",
              "      height: 32px;\n",
              "      padding: 0 0 0 0;\n",
              "      width: 32px;\n",
              "    }\n",
              "\n",
              "    .colab-df-convert:hover {\n",
              "      background-color: #E2EBFA;\n",
              "      box-shadow: 0px 1px 2px rgba(60, 64, 67, 0.3), 0px 1px 3px 1px rgba(60, 64, 67, 0.15);\n",
              "      fill: #174EA6;\n",
              "    }\n",
              "\n",
              "    [theme=dark] .colab-df-convert {\n",
              "      background-color: #3B4455;\n",
              "      fill: #D2E3FC;\n",
              "    }\n",
              "\n",
              "    [theme=dark] .colab-df-convert:hover {\n",
              "      background-color: #434B5C;\n",
              "      box-shadow: 0px 1px 3px 1px rgba(0, 0, 0, 0.15);\n",
              "      filter: drop-shadow(0px 1px 2px rgba(0, 0, 0, 0.3));\n",
              "      fill: #FFFFFF;\n",
              "    }\n",
              "  </style>\n",
              "\n",
              "      <script>\n",
              "        const buttonEl =\n",
              "          document.querySelector('#df-40722a2a-daf7-4d7b-abb2-f565eeddb0bd button.colab-df-convert');\n",
              "        buttonEl.style.display =\n",
              "          google.colab.kernel.accessAllowed ? 'block' : 'none';\n",
              "\n",
              "        async function convertToInteractive(key) {\n",
              "          const element = document.querySelector('#df-40722a2a-daf7-4d7b-abb2-f565eeddb0bd');\n",
              "          const dataTable =\n",
              "            await google.colab.kernel.invokeFunction('convertToInteractive',\n",
              "                                                     [key], {});\n",
              "          if (!dataTable) return;\n",
              "\n",
              "          const docLinkHtml = 'Like what you see? Visit the ' +\n",
              "            '<a target=\"_blank\" href=https://colab.research.google.com/notebooks/data_table.ipynb>data table notebook</a>'\n",
              "            + ' to learn more about interactive tables.';\n",
              "          element.innerHTML = '';\n",
              "          dataTable['output_type'] = 'display_data';\n",
              "          await google.colab.output.renderOutput(dataTable, element);\n",
              "          const docLink = document.createElement('div');\n",
              "          docLink.innerHTML = docLinkHtml;\n",
              "          element.appendChild(docLink);\n",
              "        }\n",
              "      </script>\n",
              "    </div>\n",
              "  </div>\n",
              "  "
            ],
            "text/plain": [
              "       Seroconversion_H1N1  D0_Titer_H1N1  D28_Titer_H1N1  Serostatus_H1N1\n",
              "count           536.000000     536.000000      536.000000       536.000000\n",
              "mean             -0.085821     129.692164      118.395522         0.720149\n",
              "std               0.329407     171.831934      154.598788         0.449345\n",
              "min              -3.000000       5.000000        5.000000         0.000000\n",
              "25%               0.000000      20.000000       20.000000         0.000000\n",
              "50%               0.000000      80.000000       80.000000         1.000000\n",
              "75%               0.000000     160.000000      160.000000         1.000000\n",
              "max               0.000000    1280.000000     1280.000000         1.000000"
            ]
          },
          "metadata": {},
          "execution_count": 33
        }
      ]
    },
    {
      "cell_type": "code",
      "source": [
        "print(df[df[\"Serostatus_H1N1\"] == 1][[\"Seroconversion_H1N1\", \"D0_Titer_H1N1\", \"D28_Titer_H1N1\"]].describe())\n",
        "print(df[df[\"Serostatus_H1N1\"] == 1][\"SC_category_H1N1\"].value_counts())\n",
        "print(df[df[\"Serostatus_H1N1\"] == 0][[\"Seroconversion_H1N1\", \"D0_Titer_H1N1\", \"D28_Titer_H1N1\"]].describe())\n",
        "df[df[\"Serostatus_H1N1\"] == 0][\"SC_category_H1N1\"].value_counts()"
      ],
      "metadata": {
        "colab": {
          "base_uri": "https://localhost:8080/"
        },
        "id": "dT3c89XTSfQS",
        "outputId": "cbe12d56-ae54-4ade-f266-962db99036da"
      },
      "execution_count": 34,
      "outputs": [
        {
          "output_type": "stream",
          "name": "stdout",
          "text": [
            "       Seroconversion_H1N1  D0_Titer_H1N1  D28_Titer_H1N1\n",
            "count           732.000000     732.000000      732.000000\n",
            "mean              0.691257     136.338798      229.132514\n",
            "std               1.110960     153.755486      261.118226\n",
            "min              -3.000000      40.000000        5.000000\n",
            "25%               0.000000      40.000000       80.000000\n",
            "50%               0.000000      80.000000      160.000000\n",
            "75%               1.000000     160.000000      320.000000\n",
            "max               5.000000    1280.000000     2560.000000\n",
            "None    386\n",
            "Low     226\n",
            "High    120\n",
            "Name: SC_category_H1N1, dtype: int64\n",
            "       Seroconversion_H1N1  D0_Titer_H1N1  D28_Titer_H1N1\n",
            "count           636.000000     636.000000      636.000000\n",
            "mean              2.036164      10.479560      116.800314\n",
            "std               1.879089       6.371533      297.723287\n",
            "min              -1.000000       5.000000        5.000000\n",
            "25%               1.000000       5.000000       20.000000\n",
            "50%               2.000000      10.000000       40.000000\n",
            "75%               3.000000      20.000000       80.000000\n",
            "max               9.000000      20.000000     2560.000000\n"
          ]
        },
        {
          "output_type": "execute_result",
          "data": {
            "text/plain": [
              "High    334\n",
              "Low     152\n",
              "None    150\n",
              "Name: SC_category_H1N1, dtype: int64"
            ]
          },
          "metadata": {},
          "execution_count": 34
        }
      ]
    },
    {
      "cell_type": "code",
      "source": [
        "print(df[df[\"SC_category_H3N2\"] == \"Low\"][[\"Seroconversion_H3N2\", \"D0_Titer_H3N2\", \"D28_Titer_H3N2\", \"Serostatus_H3N2\"]].describe())\n",
        "print(df[df[\"SC_category_H3N2\"] == \"High\"][[\"Seroconversion_H3N2\", \"D0_Titer_H3N2\", \"D28_Titer_H3N2\", \"Serostatus_H3N2\"]].describe())\n",
        "df[df[\"SC_category_H3N2\"] == \"None\"][[\"Seroconversion_H3N2\", \"D0_Titer_H3N2\", \"D28_Titer_H3N2\", \"Serostatus_H3N2\"]].describe()"
      ],
      "metadata": {
        "colab": {
          "base_uri": "https://localhost:8080/",
          "height": 631
        },
        "id": "lYFTs2tFLMsl",
        "outputId": "7afc27c6-b217-41e2-8e81-c0e8bb6b5e96"
      },
      "execution_count": 35,
      "outputs": [
        {
          "output_type": "stream",
          "name": "stdout",
          "text": [
            "       Seroconversion_H3N2  D0_Titer_H3N2  D28_Titer_H3N2  Serostatus_H3N2\n",
            "count                368.0     368.000000      368.000000       368.000000\n",
            "mean                   1.0      85.190217      170.380435         0.679348\n",
            "std                    0.0     136.183246      272.366492         0.467363\n",
            "min                    1.0       5.000000       10.000000         0.000000\n",
            "25%                    1.0      20.000000       40.000000         0.000000\n",
            "50%                    1.0      40.000000       80.000000         1.000000\n",
            "75%                    1.0      80.000000      160.000000         1.000000\n",
            "max                    1.0    1280.000000     2560.000000         1.000000\n",
            "       Seroconversion_H3N2  D0_Titer_H3N2  D28_Titer_H3N2  Serostatus_H3N2\n",
            "count           533.000000     533.000000      533.000000       533.000000\n",
            "mean              3.102026      28.667917      256.941839         0.309568\n",
            "std               1.243559      40.529953      346.107015         0.462750\n",
            "min               2.000000       5.000000       20.000000         0.000000\n",
            "25%               2.000000       5.000000       40.000000         0.000000\n",
            "50%               3.000000      10.000000      160.000000         0.000000\n",
            "75%               4.000000      40.000000      320.000000         1.000000\n",
            "max               8.000000     320.000000     2560.000000         1.000000\n"
          ]
        },
        {
          "output_type": "execute_result",
          "data": {
            "text/html": [
              "\n",
              "  <div id=\"df-03fa15de-d1db-4e76-b2f5-b998be7e5b16\">\n",
              "    <div class=\"colab-df-container\">\n",
              "      <div>\n",
              "<style scoped>\n",
              "    .dataframe tbody tr th:only-of-type {\n",
              "        vertical-align: middle;\n",
              "    }\n",
              "\n",
              "    .dataframe tbody tr th {\n",
              "        vertical-align: top;\n",
              "    }\n",
              "\n",
              "    .dataframe thead th {\n",
              "        text-align: right;\n",
              "    }\n",
              "</style>\n",
              "<table border=\"1\" class=\"dataframe\">\n",
              "  <thead>\n",
              "    <tr style=\"text-align: right;\">\n",
              "      <th></th>\n",
              "      <th>Seroconversion_H3N2</th>\n",
              "      <th>D0_Titer_H3N2</th>\n",
              "      <th>D28_Titer_H3N2</th>\n",
              "      <th>Serostatus_H3N2</th>\n",
              "    </tr>\n",
              "  </thead>\n",
              "  <tbody>\n",
              "    <tr>\n",
              "      <th>count</th>\n",
              "      <td>467.000000</td>\n",
              "      <td>467.000000</td>\n",
              "      <td>467.000000</td>\n",
              "      <td>467.000000</td>\n",
              "    </tr>\n",
              "    <tr>\n",
              "      <th>mean</th>\n",
              "      <td>-0.042827</td>\n",
              "      <td>159.967880</td>\n",
              "      <td>155.942184</td>\n",
              "      <td>0.817987</td>\n",
              "    </tr>\n",
              "    <tr>\n",
              "      <th>std</th>\n",
              "      <td>0.213008</td>\n",
              "      <td>208.484335</td>\n",
              "      <td>202.379278</td>\n",
              "      <td>0.386269</td>\n",
              "    </tr>\n",
              "    <tr>\n",
              "      <th>min</th>\n",
              "      <td>-2.000000</td>\n",
              "      <td>5.000000</td>\n",
              "      <td>5.000000</td>\n",
              "      <td>0.000000</td>\n",
              "    </tr>\n",
              "    <tr>\n",
              "      <th>25%</th>\n",
              "      <td>0.000000</td>\n",
              "      <td>40.000000</td>\n",
              "      <td>40.000000</td>\n",
              "      <td>1.000000</td>\n",
              "    </tr>\n",
              "    <tr>\n",
              "      <th>50%</th>\n",
              "      <td>0.000000</td>\n",
              "      <td>80.000000</td>\n",
              "      <td>80.000000</td>\n",
              "      <td>1.000000</td>\n",
              "    </tr>\n",
              "    <tr>\n",
              "      <th>75%</th>\n",
              "      <td>0.000000</td>\n",
              "      <td>160.000000</td>\n",
              "      <td>160.000000</td>\n",
              "      <td>1.000000</td>\n",
              "    </tr>\n",
              "    <tr>\n",
              "      <th>max</th>\n",
              "      <td>0.000000</td>\n",
              "      <td>1280.000000</td>\n",
              "      <td>1280.000000</td>\n",
              "      <td>1.000000</td>\n",
              "    </tr>\n",
              "  </tbody>\n",
              "</table>\n",
              "</div>\n",
              "      <button class=\"colab-df-convert\" onclick=\"convertToInteractive('df-03fa15de-d1db-4e76-b2f5-b998be7e5b16')\"\n",
              "              title=\"Convert this dataframe to an interactive table.\"\n",
              "              style=\"display:none;\">\n",
              "        \n",
              "  <svg xmlns=\"http://www.w3.org/2000/svg\" height=\"24px\"viewBox=\"0 0 24 24\"\n",
              "       width=\"24px\">\n",
              "    <path d=\"M0 0h24v24H0V0z\" fill=\"none\"/>\n",
              "    <path d=\"M18.56 5.44l.94 2.06.94-2.06 2.06-.94-2.06-.94-.94-2.06-.94 2.06-2.06.94zm-11 1L8.5 8.5l.94-2.06 2.06-.94-2.06-.94L8.5 2.5l-.94 2.06-2.06.94zm10 10l.94 2.06.94-2.06 2.06-.94-2.06-.94-.94-2.06-.94 2.06-2.06.94z\"/><path d=\"M17.41 7.96l-1.37-1.37c-.4-.4-.92-.59-1.43-.59-.52 0-1.04.2-1.43.59L10.3 9.45l-7.72 7.72c-.78.78-.78 2.05 0 2.83L4 21.41c.39.39.9.59 1.41.59.51 0 1.02-.2 1.41-.59l7.78-7.78 2.81-2.81c.8-.78.8-2.07 0-2.86zM5.41 20L4 18.59l7.72-7.72 1.47 1.35L5.41 20z\"/>\n",
              "  </svg>\n",
              "      </button>\n",
              "      \n",
              "  <style>\n",
              "    .colab-df-container {\n",
              "      display:flex;\n",
              "      flex-wrap:wrap;\n",
              "      gap: 12px;\n",
              "    }\n",
              "\n",
              "    .colab-df-convert {\n",
              "      background-color: #E8F0FE;\n",
              "      border: none;\n",
              "      border-radius: 50%;\n",
              "      cursor: pointer;\n",
              "      display: none;\n",
              "      fill: #1967D2;\n",
              "      height: 32px;\n",
              "      padding: 0 0 0 0;\n",
              "      width: 32px;\n",
              "    }\n",
              "\n",
              "    .colab-df-convert:hover {\n",
              "      background-color: #E2EBFA;\n",
              "      box-shadow: 0px 1px 2px rgba(60, 64, 67, 0.3), 0px 1px 3px 1px rgba(60, 64, 67, 0.15);\n",
              "      fill: #174EA6;\n",
              "    }\n",
              "\n",
              "    [theme=dark] .colab-df-convert {\n",
              "      background-color: #3B4455;\n",
              "      fill: #D2E3FC;\n",
              "    }\n",
              "\n",
              "    [theme=dark] .colab-df-convert:hover {\n",
              "      background-color: #434B5C;\n",
              "      box-shadow: 0px 1px 3px 1px rgba(0, 0, 0, 0.15);\n",
              "      filter: drop-shadow(0px 1px 2px rgba(0, 0, 0, 0.3));\n",
              "      fill: #FFFFFF;\n",
              "    }\n",
              "  </style>\n",
              "\n",
              "      <script>\n",
              "        const buttonEl =\n",
              "          document.querySelector('#df-03fa15de-d1db-4e76-b2f5-b998be7e5b16 button.colab-df-convert');\n",
              "        buttonEl.style.display =\n",
              "          google.colab.kernel.accessAllowed ? 'block' : 'none';\n",
              "\n",
              "        async function convertToInteractive(key) {\n",
              "          const element = document.querySelector('#df-03fa15de-d1db-4e76-b2f5-b998be7e5b16');\n",
              "          const dataTable =\n",
              "            await google.colab.kernel.invokeFunction('convertToInteractive',\n",
              "                                                     [key], {});\n",
              "          if (!dataTable) return;\n",
              "\n",
              "          const docLinkHtml = 'Like what you see? Visit the ' +\n",
              "            '<a target=\"_blank\" href=https://colab.research.google.com/notebooks/data_table.ipynb>data table notebook</a>'\n",
              "            + ' to learn more about interactive tables.';\n",
              "          element.innerHTML = '';\n",
              "          dataTable['output_type'] = 'display_data';\n",
              "          await google.colab.output.renderOutput(dataTable, element);\n",
              "          const docLink = document.createElement('div');\n",
              "          docLink.innerHTML = docLinkHtml;\n",
              "          element.appendChild(docLink);\n",
              "        }\n",
              "      </script>\n",
              "    </div>\n",
              "  </div>\n",
              "  "
            ],
            "text/plain": [
              "       Seroconversion_H3N2  D0_Titer_H3N2  D28_Titer_H3N2  Serostatus_H3N2\n",
              "count           467.000000     467.000000      467.000000       467.000000\n",
              "mean             -0.042827     159.967880      155.942184         0.817987\n",
              "std               0.213008     208.484335      202.379278         0.386269\n",
              "min              -2.000000       5.000000        5.000000         0.000000\n",
              "25%               0.000000      40.000000       40.000000         1.000000\n",
              "50%               0.000000      80.000000       80.000000         1.000000\n",
              "75%               0.000000     160.000000      160.000000         1.000000\n",
              "max               0.000000    1280.000000     1280.000000         1.000000"
            ]
          },
          "metadata": {},
          "execution_count": 35
        }
      ]
    },
    {
      "cell_type": "code",
      "source": [
        "print(df[df[\"Serostatus_H3N2\"] == 1][[\"Seroconversion_H3N2\", \"D0_Titer_H3N2\", \"D28_Titer_H3N2\"]].describe())\n",
        "print(df[df[\"Serostatus_H3N2\"] == 1][\"SC_category_H3N2\"].value_counts())\n",
        "print(df[df[\"Serostatus_H3N2\"] == 0][[\"Seroconversion_H3N2\", \"D0_Titer_H3N2\", \"D28_Titer_H3N2\"]].describe())\n",
        "df[df[\"Serostatus_H3N2\"] == 0][\"SC_category_H3N2\"].value_counts()"
      ],
      "metadata": {
        "colab": {
          "base_uri": "https://localhost:8080/"
        },
        "id": "7Ivy3BGYLOQl",
        "outputId": "f88500c8-d911-47e6-a8d9-87260ba9cce2"
      },
      "execution_count": 36,
      "outputs": [
        {
          "output_type": "stream",
          "name": "stdout",
          "text": [
            "       Seroconversion_H3N2  D0_Titer_H3N2  D28_Titer_H3N2\n",
            "count           797.000000     797.000000      797.000000\n",
            "mean              0.834780     144.792974      266.737767\n",
            "std               1.099901     181.428208      322.716793\n",
            "min              -2.000000      40.000000       10.000000\n",
            "25%               0.000000      40.000000       80.000000\n",
            "50%               1.000000      80.000000      160.000000\n",
            "75%               1.000000     160.000000      320.000000\n",
            "max               5.000000    1280.000000     2560.000000\n",
            "None    382\n",
            "Low     250\n",
            "High    165\n",
            "Name: SC_category_H3N2, dtype: int64\n",
            "       Seroconversion_H3N2  D0_Titer_H3N2  D28_Titer_H3N2\n",
            "count           571.000000     571.000000      571.000000\n",
            "mean              2.339860      10.394046      104.877408\n",
            "std               1.725433       6.259917      193.674720\n",
            "min              -1.000000       5.000000        5.000000\n",
            "25%               1.000000       5.000000       20.000000\n",
            "50%               2.000000      10.000000       40.000000\n",
            "75%               4.000000      20.000000       80.000000\n",
            "max               8.000000      20.000000     2560.000000\n"
          ]
        },
        {
          "output_type": "execute_result",
          "data": {
            "text/plain": [
              "High    368\n",
              "Low     118\n",
              "None     85\n",
              "Name: SC_category_H3N2, dtype: int64"
            ]
          },
          "metadata": {},
          "execution_count": 36
        }
      ]
    },
    {
      "cell_type": "code",
      "source": [
        "print(df[df[\"SC_category_IBV_Yam\"] == \"Low\"][[\"Seroconversion_IBV_Yam\", \"D0_Titer_IBV_Yam\", \"D28_Titer_IBV_Yam\", \"Serostatus_IBV_Yam\"]].describe())\n",
        "print(df[df[\"SC_category_IBV_Yam\"] == \"High\"][[\"Seroconversion_IBV_Yam\", \"D0_Titer_IBV_Yam\", \"D28_Titer_IBV_Yam\", \"Serostatus_IBV_Yam\"]].describe())\n",
        "df[df[\"SC_category_IBV_Yam\"] == \"None\"][[\"Seroconversion_IBV_Yam\", \"D0_Titer_IBV_Yam\", \"D28_Titer_IBV_Yam\", \"Serostatus_IBV_Yam\"]].describe()"
      ],
      "metadata": {
        "colab": {
          "base_uri": "https://localhost:8080/",
          "height": 998
        },
        "id": "xei_klnfLQeP",
        "outputId": "43643266-9732-457e-dfa1-6fdecae71462"
      },
      "execution_count": 37,
      "outputs": [
        {
          "output_type": "stream",
          "name": "stdout",
          "text": [
            "       Seroconversion_IBV_Yam  D0_Titer_IBV_Yam  D28_Titer_IBV_Yam  \\\n",
            "count                   452.0        452.000000         452.000000   \n",
            "mean                      1.0         79.480088         158.960177   \n",
            "std                       0.0         79.864114         159.728229   \n",
            "min                       1.0          5.000000          10.000000   \n",
            "25%                       1.0         20.000000          40.000000   \n",
            "50%                       1.0         40.000000          80.000000   \n",
            "75%                       1.0         80.000000         160.000000   \n",
            "max                       1.0        640.000000        1280.000000   \n",
            "\n",
            "       Serostatus_IBV_Yam  \n",
            "count          452.000000  \n",
            "mean             0.712389  \n",
            "std              0.453150  \n",
            "min              0.000000  \n",
            "25%              0.000000  \n",
            "50%              1.000000  \n",
            "75%              1.000000  \n",
            "max              1.000000  \n",
            "       Seroconversion_IBV_Yam  D0_Titer_IBV_Yam  D28_Titer_IBV_Yam  \\\n",
            "count              341.000000        341.000000         341.000000   \n",
            "mean                 2.958944         39.354839         322.404692   \n",
            "std                  1.233628         50.721502         478.586240   \n",
            "min                  2.000000          5.000000          20.000000   \n",
            "25%                  2.000000         10.000000          80.000000   \n",
            "50%                  3.000000         20.000000         160.000000   \n",
            "75%                  3.000000         40.000000         320.000000   \n",
            "max                  7.000000        320.000000        5120.000000   \n",
            "\n",
            "       Serostatus_IBV_Yam  \n",
            "count          341.000000  \n",
            "mean             0.434018  \n",
            "std              0.496356  \n",
            "min              0.000000  \n",
            "25%              0.000000  \n",
            "50%              0.000000  \n",
            "75%              1.000000  \n",
            "max              1.000000  \n"
          ]
        },
        {
          "output_type": "execute_result",
          "data": {
            "text/html": [
              "\n",
              "  <div id=\"df-50232a89-2d88-49d3-920c-653669560e10\">\n",
              "    <div class=\"colab-df-container\">\n",
              "      <div>\n",
              "<style scoped>\n",
              "    .dataframe tbody tr th:only-of-type {\n",
              "        vertical-align: middle;\n",
              "    }\n",
              "\n",
              "    .dataframe tbody tr th {\n",
              "        vertical-align: top;\n",
              "    }\n",
              "\n",
              "    .dataframe thead th {\n",
              "        text-align: right;\n",
              "    }\n",
              "</style>\n",
              "<table border=\"1\" class=\"dataframe\">\n",
              "  <thead>\n",
              "    <tr style=\"text-align: right;\">\n",
              "      <th></th>\n",
              "      <th>Seroconversion_IBV_Yam</th>\n",
              "      <th>D0_Titer_IBV_Yam</th>\n",
              "      <th>D28_Titer_IBV_Yam</th>\n",
              "      <th>Serostatus_IBV_Yam</th>\n",
              "    </tr>\n",
              "  </thead>\n",
              "  <tbody>\n",
              "    <tr>\n",
              "      <th>count</th>\n",
              "      <td>575.000000</td>\n",
              "      <td>575.000000</td>\n",
              "      <td>575.000000</td>\n",
              "      <td>575.000000</td>\n",
              "    </tr>\n",
              "    <tr>\n",
              "      <th>mean</th>\n",
              "      <td>-0.099130</td>\n",
              "      <td>183.269565</td>\n",
              "      <td>172.782609</td>\n",
              "      <td>0.864348</td>\n",
              "    </tr>\n",
              "    <tr>\n",
              "      <th>std</th>\n",
              "      <td>0.371806</td>\n",
              "      <td>268.635419</td>\n",
              "      <td>250.747308</td>\n",
              "      <td>0.342717</td>\n",
              "    </tr>\n",
              "    <tr>\n",
              "      <th>min</th>\n",
              "      <td>-5.000000</td>\n",
              "      <td>5.000000</td>\n",
              "      <td>5.000000</td>\n",
              "      <td>0.000000</td>\n",
              "    </tr>\n",
              "    <tr>\n",
              "      <th>25%</th>\n",
              "      <td>0.000000</td>\n",
              "      <td>40.000000</td>\n",
              "      <td>40.000000</td>\n",
              "      <td>1.000000</td>\n",
              "    </tr>\n",
              "    <tr>\n",
              "      <th>50%</th>\n",
              "      <td>0.000000</td>\n",
              "      <td>80.000000</td>\n",
              "      <td>80.000000</td>\n",
              "      <td>1.000000</td>\n",
              "    </tr>\n",
              "    <tr>\n",
              "      <th>75%</th>\n",
              "      <td>0.000000</td>\n",
              "      <td>160.000000</td>\n",
              "      <td>160.000000</td>\n",
              "      <td>1.000000</td>\n",
              "    </tr>\n",
              "    <tr>\n",
              "      <th>max</th>\n",
              "      <td>0.000000</td>\n",
              "      <td>2560.000000</td>\n",
              "      <td>2560.000000</td>\n",
              "      <td>1.000000</td>\n",
              "    </tr>\n",
              "  </tbody>\n",
              "</table>\n",
              "</div>\n",
              "      <button class=\"colab-df-convert\" onclick=\"convertToInteractive('df-50232a89-2d88-49d3-920c-653669560e10')\"\n",
              "              title=\"Convert this dataframe to an interactive table.\"\n",
              "              style=\"display:none;\">\n",
              "        \n",
              "  <svg xmlns=\"http://www.w3.org/2000/svg\" height=\"24px\"viewBox=\"0 0 24 24\"\n",
              "       width=\"24px\">\n",
              "    <path d=\"M0 0h24v24H0V0z\" fill=\"none\"/>\n",
              "    <path d=\"M18.56 5.44l.94 2.06.94-2.06 2.06-.94-2.06-.94-.94-2.06-.94 2.06-2.06.94zm-11 1L8.5 8.5l.94-2.06 2.06-.94-2.06-.94L8.5 2.5l-.94 2.06-2.06.94zm10 10l.94 2.06.94-2.06 2.06-.94-2.06-.94-.94-2.06-.94 2.06-2.06.94z\"/><path d=\"M17.41 7.96l-1.37-1.37c-.4-.4-.92-.59-1.43-.59-.52 0-1.04.2-1.43.59L10.3 9.45l-7.72 7.72c-.78.78-.78 2.05 0 2.83L4 21.41c.39.39.9.59 1.41.59.51 0 1.02-.2 1.41-.59l7.78-7.78 2.81-2.81c.8-.78.8-2.07 0-2.86zM5.41 20L4 18.59l7.72-7.72 1.47 1.35L5.41 20z\"/>\n",
              "  </svg>\n",
              "      </button>\n",
              "      \n",
              "  <style>\n",
              "    .colab-df-container {\n",
              "      display:flex;\n",
              "      flex-wrap:wrap;\n",
              "      gap: 12px;\n",
              "    }\n",
              "\n",
              "    .colab-df-convert {\n",
              "      background-color: #E8F0FE;\n",
              "      border: none;\n",
              "      border-radius: 50%;\n",
              "      cursor: pointer;\n",
              "      display: none;\n",
              "      fill: #1967D2;\n",
              "      height: 32px;\n",
              "      padding: 0 0 0 0;\n",
              "      width: 32px;\n",
              "    }\n",
              "\n",
              "    .colab-df-convert:hover {\n",
              "      background-color: #E2EBFA;\n",
              "      box-shadow: 0px 1px 2px rgba(60, 64, 67, 0.3), 0px 1px 3px 1px rgba(60, 64, 67, 0.15);\n",
              "      fill: #174EA6;\n",
              "    }\n",
              "\n",
              "    [theme=dark] .colab-df-convert {\n",
              "      background-color: #3B4455;\n",
              "      fill: #D2E3FC;\n",
              "    }\n",
              "\n",
              "    [theme=dark] .colab-df-convert:hover {\n",
              "      background-color: #434B5C;\n",
              "      box-shadow: 0px 1px 3px 1px rgba(0, 0, 0, 0.15);\n",
              "      filter: drop-shadow(0px 1px 2px rgba(0, 0, 0, 0.3));\n",
              "      fill: #FFFFFF;\n",
              "    }\n",
              "  </style>\n",
              "\n",
              "      <script>\n",
              "        const buttonEl =\n",
              "          document.querySelector('#df-50232a89-2d88-49d3-920c-653669560e10 button.colab-df-convert');\n",
              "        buttonEl.style.display =\n",
              "          google.colab.kernel.accessAllowed ? 'block' : 'none';\n",
              "\n",
              "        async function convertToInteractive(key) {\n",
              "          const element = document.querySelector('#df-50232a89-2d88-49d3-920c-653669560e10');\n",
              "          const dataTable =\n",
              "            await google.colab.kernel.invokeFunction('convertToInteractive',\n",
              "                                                     [key], {});\n",
              "          if (!dataTable) return;\n",
              "\n",
              "          const docLinkHtml = 'Like what you see? Visit the ' +\n",
              "            '<a target=\"_blank\" href=https://colab.research.google.com/notebooks/data_table.ipynb>data table notebook</a>'\n",
              "            + ' to learn more about interactive tables.';\n",
              "          element.innerHTML = '';\n",
              "          dataTable['output_type'] = 'display_data';\n",
              "          await google.colab.output.renderOutput(dataTable, element);\n",
              "          const docLink = document.createElement('div');\n",
              "          docLink.innerHTML = docLinkHtml;\n",
              "          element.appendChild(docLink);\n",
              "        }\n",
              "      </script>\n",
              "    </div>\n",
              "  </div>\n",
              "  "
            ],
            "text/plain": [
              "       Seroconversion_IBV_Yam  D0_Titer_IBV_Yam  D28_Titer_IBV_Yam  \\\n",
              "count              575.000000        575.000000         575.000000   \n",
              "mean                -0.099130        183.269565         172.782609   \n",
              "std                  0.371806        268.635419         250.747308   \n",
              "min                 -5.000000          5.000000           5.000000   \n",
              "25%                  0.000000         40.000000          40.000000   \n",
              "50%                  0.000000         80.000000          80.000000   \n",
              "75%                  0.000000        160.000000         160.000000   \n",
              "max                  0.000000       2560.000000        2560.000000   \n",
              "\n",
              "       Serostatus_IBV_Yam  \n",
              "count          575.000000  \n",
              "mean             0.864348  \n",
              "std              0.342717  \n",
              "min              0.000000  \n",
              "25%              1.000000  \n",
              "50%              1.000000  \n",
              "75%              1.000000  \n",
              "max              1.000000  "
            ]
          },
          "metadata": {},
          "execution_count": 37
        }
      ]
    },
    {
      "cell_type": "code",
      "source": [
        "print(df[df[\"Serostatus_IBV_Yam\"] == 1][[\"Seroconversion_IBV_Yam\", \"D0_Titer_IBV_Yam\", \"D28_Titer_IBV_Yam\"]].describe())\n",
        "print(df[df[\"Serostatus_IBV_Yam\"] == 1][\"SC_category_IBV_Yam\"].value_counts())\n",
        "print(df[df[\"Serostatus_IBV_Yam\"] == 0][[\"Seroconversion_IBV_Yam\", \"D0_Titer_IBV_Yam\", \"D28_Titer_IBV_Yam\"]].describe())\n",
        "df[df[\"Serostatus_IBV_Yam\"] == 0][\"SC_category_IBV_Yam\"].value_counts()"
      ],
      "metadata": {
        "colab": {
          "base_uri": "https://localhost:8080/"
        },
        "id": "8RqH28H2LVz9",
        "outputId": "f5bc5777-2cbb-4f43-a66f-582609124f2e"
      },
      "execution_count": 38,
      "outputs": [
        {
          "output_type": "stream",
          "name": "stdout",
          "text": [
            "       Seroconversion_IBV_Yam  D0_Titer_IBV_Yam  D28_Titer_IBV_Yam\n",
            "count              967.000000        967.000000         967.000000\n",
            "mean                 0.664943        154.457084         247.817994\n",
            "std                  1.012061        215.142810         318.888948\n",
            "min                 -5.000000         40.000000          10.000000\n",
            "25%                  0.000000         40.000000          80.000000\n",
            "50%                  0.000000         80.000000         160.000000\n",
            "75%                  1.000000        160.000000         320.000000\n",
            "max                  6.000000       2560.000000        5120.000000\n",
            "None    497\n",
            "Low     322\n",
            "High    148\n",
            "Name: SC_category_IBV_Yam, dtype: int64\n",
            "       Seroconversion_IBV_Yam  D0_Titer_IBV_Yam  D28_Titer_IBV_Yam\n",
            "count              401.000000        401.000000         401.000000\n",
            "mean                 1.897756         13.379052         103.491272\n",
            "std                  1.716689          6.373065         262.626932\n",
            "min                 -1.000000          5.000000           5.000000\n",
            "25%                  1.000000         10.000000          20.000000\n",
            "50%                  1.000000         10.000000          40.000000\n",
            "75%                  3.000000         20.000000          80.000000\n",
            "max                  7.000000         20.000000        2560.000000\n"
          ]
        },
        {
          "output_type": "execute_result",
          "data": {
            "text/plain": [
              "High    193\n",
              "Low     130\n",
              "None     78\n",
              "Name: SC_category_IBV_Yam, dtype: int64"
            ]
          },
          "metadata": {},
          "execution_count": 38
        }
      ]
    },
    {
      "cell_type": "code",
      "source": [
        "print(df[df[\"SC_category_IBV_Vic\"] == \"Low\"][[\"Seroconversion_IBV_Vic\", \"D0_Titer_IBV_Vic\", \"D28_Titer_IBV_Vic\", \"Serostatus_IBV_Vic\"]].describe())\n",
        "print(df[df[\"SC_category_IBV_Vic\"] == \"High\"][[\"Seroconversion_IBV_Vic\", \"D0_Titer_IBV_Vic\", \"D28_Titer_IBV_Vic\", \"Serostatus_IBV_Vic\"]].describe())\n",
        "df[df[\"SC_category_IBV_Vic\"] == \"None\"][[\"Seroconversion_IBV_Vic\", \"D0_Titer_IBV_Vic\", \"D28_Titer_IBV_Vic\", \"Serostatus_IBV_Vic\"]].describe()"
      ],
      "metadata": {
        "colab": {
          "base_uri": "https://localhost:8080/",
          "height": 998
        },
        "id": "Ld-wga9rWq5P",
        "outputId": "68276240-885c-4e45-e4f0-b5f460a1928f"
      },
      "execution_count": 39,
      "outputs": [
        {
          "output_type": "stream",
          "name": "stdout",
          "text": [
            "       Seroconversion_IBV_Vic  D0_Titer_IBV_Vic  D28_Titer_IBV_Vic  \\\n",
            "count                   487.0        487.000000         487.000000   \n",
            "mean                      1.0         54.517454         109.034908   \n",
            "std                       0.0         56.475924         112.951849   \n",
            "min                       1.0          5.000000          10.000000   \n",
            "25%                       1.0         20.000000          40.000000   \n",
            "50%                       1.0         40.000000          80.000000   \n",
            "75%                       1.0         80.000000         160.000000   \n",
            "max                       1.0        320.000000         640.000000   \n",
            "\n",
            "       Serostatus_IBV_Vic  \n",
            "count          487.000000  \n",
            "mean             0.589322  \n",
            "std              0.492463  \n",
            "min              0.000000  \n",
            "25%              0.000000  \n",
            "50%              1.000000  \n",
            "75%              1.000000  \n",
            "max              1.000000  \n",
            "       Seroconversion_IBV_Vic  D0_Titer_IBV_Vic  D28_Titer_IBV_Vic  \\\n",
            "count              415.000000        415.000000         415.000000   \n",
            "mean                 3.179084         22.096386         221.662651   \n",
            "std                  1.355034         41.632628         364.714675   \n",
            "min                  2.000000          5.000000          20.000000   \n",
            "25%                  2.000000          5.000000          40.000000   \n",
            "50%                  3.000000         10.000000          80.000000   \n",
            "75%                  4.000000         20.000000         320.000000   \n",
            "max                  8.000000        640.000000        2560.000000   \n",
            "\n",
            "       Serostatus_IBV_Vic  \n",
            "count          415.000000  \n",
            "mean             0.212048  \n",
            "std              0.409252  \n",
            "min              0.000000  \n",
            "25%              0.000000  \n",
            "50%              0.000000  \n",
            "75%              0.000000  \n",
            "max              1.000000  \n"
          ]
        },
        {
          "output_type": "execute_result",
          "data": {
            "text/html": [
              "\n",
              "  <div id=\"df-7dcf1afe-a4ce-4351-aba9-909b5d36bc2b\">\n",
              "    <div class=\"colab-df-container\">\n",
              "      <div>\n",
              "<style scoped>\n",
              "    .dataframe tbody tr th:only-of-type {\n",
              "        vertical-align: middle;\n",
              "    }\n",
              "\n",
              "    .dataframe tbody tr th {\n",
              "        vertical-align: top;\n",
              "    }\n",
              "\n",
              "    .dataframe thead th {\n",
              "        text-align: right;\n",
              "    }\n",
              "</style>\n",
              "<table border=\"1\" class=\"dataframe\">\n",
              "  <thead>\n",
              "    <tr style=\"text-align: right;\">\n",
              "      <th></th>\n",
              "      <th>Seroconversion_IBV_Vic</th>\n",
              "      <th>D0_Titer_IBV_Vic</th>\n",
              "      <th>D28_Titer_IBV_Vic</th>\n",
              "      <th>Serostatus_IBV_Vic</th>\n",
              "    </tr>\n",
              "  </thead>\n",
              "  <tbody>\n",
              "    <tr>\n",
              "      <th>count</th>\n",
              "      <td>466.000000</td>\n",
              "      <td>466.000000</td>\n",
              "      <td>466.00000</td>\n",
              "      <td>466.000000</td>\n",
              "    </tr>\n",
              "    <tr>\n",
              "      <th>mean</th>\n",
              "      <td>-0.105150</td>\n",
              "      <td>107.639485</td>\n",
              "      <td>99.71030</td>\n",
              "      <td>0.806867</td>\n",
              "    </tr>\n",
              "    <tr>\n",
              "      <th>std</th>\n",
              "      <td>0.346558</td>\n",
              "      <td>112.383306</td>\n",
              "      <td>104.79202</td>\n",
              "      <td>0.395181</td>\n",
              "    </tr>\n",
              "    <tr>\n",
              "      <th>min</th>\n",
              "      <td>-3.000000</td>\n",
              "      <td>5.000000</td>\n",
              "      <td>5.00000</td>\n",
              "      <td>0.000000</td>\n",
              "    </tr>\n",
              "    <tr>\n",
              "      <th>25%</th>\n",
              "      <td>0.000000</td>\n",
              "      <td>40.000000</td>\n",
              "      <td>40.00000</td>\n",
              "      <td>1.000000</td>\n",
              "    </tr>\n",
              "    <tr>\n",
              "      <th>50%</th>\n",
              "      <td>0.000000</td>\n",
              "      <td>80.000000</td>\n",
              "      <td>80.00000</td>\n",
              "      <td>1.000000</td>\n",
              "    </tr>\n",
              "    <tr>\n",
              "      <th>75%</th>\n",
              "      <td>0.000000</td>\n",
              "      <td>160.000000</td>\n",
              "      <td>160.00000</td>\n",
              "      <td>1.000000</td>\n",
              "    </tr>\n",
              "    <tr>\n",
              "      <th>max</th>\n",
              "      <td>0.000000</td>\n",
              "      <td>640.000000</td>\n",
              "      <td>640.00000</td>\n",
              "      <td>1.000000</td>\n",
              "    </tr>\n",
              "  </tbody>\n",
              "</table>\n",
              "</div>\n",
              "      <button class=\"colab-df-convert\" onclick=\"convertToInteractive('df-7dcf1afe-a4ce-4351-aba9-909b5d36bc2b')\"\n",
              "              title=\"Convert this dataframe to an interactive table.\"\n",
              "              style=\"display:none;\">\n",
              "        \n",
              "  <svg xmlns=\"http://www.w3.org/2000/svg\" height=\"24px\"viewBox=\"0 0 24 24\"\n",
              "       width=\"24px\">\n",
              "    <path d=\"M0 0h24v24H0V0z\" fill=\"none\"/>\n",
              "    <path d=\"M18.56 5.44l.94 2.06.94-2.06 2.06-.94-2.06-.94-.94-2.06-.94 2.06-2.06.94zm-11 1L8.5 8.5l.94-2.06 2.06-.94-2.06-.94L8.5 2.5l-.94 2.06-2.06.94zm10 10l.94 2.06.94-2.06 2.06-.94-2.06-.94-.94-2.06-.94 2.06-2.06.94z\"/><path d=\"M17.41 7.96l-1.37-1.37c-.4-.4-.92-.59-1.43-.59-.52 0-1.04.2-1.43.59L10.3 9.45l-7.72 7.72c-.78.78-.78 2.05 0 2.83L4 21.41c.39.39.9.59 1.41.59.51 0 1.02-.2 1.41-.59l7.78-7.78 2.81-2.81c.8-.78.8-2.07 0-2.86zM5.41 20L4 18.59l7.72-7.72 1.47 1.35L5.41 20z\"/>\n",
              "  </svg>\n",
              "      </button>\n",
              "      \n",
              "  <style>\n",
              "    .colab-df-container {\n",
              "      display:flex;\n",
              "      flex-wrap:wrap;\n",
              "      gap: 12px;\n",
              "    }\n",
              "\n",
              "    .colab-df-convert {\n",
              "      background-color: #E8F0FE;\n",
              "      border: none;\n",
              "      border-radius: 50%;\n",
              "      cursor: pointer;\n",
              "      display: none;\n",
              "      fill: #1967D2;\n",
              "      height: 32px;\n",
              "      padding: 0 0 0 0;\n",
              "      width: 32px;\n",
              "    }\n",
              "\n",
              "    .colab-df-convert:hover {\n",
              "      background-color: #E2EBFA;\n",
              "      box-shadow: 0px 1px 2px rgba(60, 64, 67, 0.3), 0px 1px 3px 1px rgba(60, 64, 67, 0.15);\n",
              "      fill: #174EA6;\n",
              "    }\n",
              "\n",
              "    [theme=dark] .colab-df-convert {\n",
              "      background-color: #3B4455;\n",
              "      fill: #D2E3FC;\n",
              "    }\n",
              "\n",
              "    [theme=dark] .colab-df-convert:hover {\n",
              "      background-color: #434B5C;\n",
              "      box-shadow: 0px 1px 3px 1px rgba(0, 0, 0, 0.15);\n",
              "      filter: drop-shadow(0px 1px 2px rgba(0, 0, 0, 0.3));\n",
              "      fill: #FFFFFF;\n",
              "    }\n",
              "  </style>\n",
              "\n",
              "      <script>\n",
              "        const buttonEl =\n",
              "          document.querySelector('#df-7dcf1afe-a4ce-4351-aba9-909b5d36bc2b button.colab-df-convert');\n",
              "        buttonEl.style.display =\n",
              "          google.colab.kernel.accessAllowed ? 'block' : 'none';\n",
              "\n",
              "        async function convertToInteractive(key) {\n",
              "          const element = document.querySelector('#df-7dcf1afe-a4ce-4351-aba9-909b5d36bc2b');\n",
              "          const dataTable =\n",
              "            await google.colab.kernel.invokeFunction('convertToInteractive',\n",
              "                                                     [key], {});\n",
              "          if (!dataTable) return;\n",
              "\n",
              "          const docLinkHtml = 'Like what you see? Visit the ' +\n",
              "            '<a target=\"_blank\" href=https://colab.research.google.com/notebooks/data_table.ipynb>data table notebook</a>'\n",
              "            + ' to learn more about interactive tables.';\n",
              "          element.innerHTML = '';\n",
              "          dataTable['output_type'] = 'display_data';\n",
              "          await google.colab.output.renderOutput(dataTable, element);\n",
              "          const docLink = document.createElement('div');\n",
              "          docLink.innerHTML = docLinkHtml;\n",
              "          element.appendChild(docLink);\n",
              "        }\n",
              "      </script>\n",
              "    </div>\n",
              "  </div>\n",
              "  "
            ],
            "text/plain": [
              "       Seroconversion_IBV_Vic  D0_Titer_IBV_Vic  D28_Titer_IBV_Vic  \\\n",
              "count              466.000000        466.000000          466.00000   \n",
              "mean                -0.105150        107.639485           99.71030   \n",
              "std                  0.346558        112.383306          104.79202   \n",
              "min                 -3.000000          5.000000            5.00000   \n",
              "25%                  0.000000         40.000000           40.00000   \n",
              "50%                  0.000000         80.000000           80.00000   \n",
              "75%                  0.000000        160.000000          160.00000   \n",
              "max                  0.000000        640.000000          640.00000   \n",
              "\n",
              "       Serostatus_IBV_Vic  \n",
              "count          466.000000  \n",
              "mean             0.806867  \n",
              "std              0.395181  \n",
              "min              0.000000  \n",
              "25%              1.000000  \n",
              "50%              1.000000  \n",
              "75%              1.000000  \n",
              "max              1.000000  "
            ]
          },
          "metadata": {},
          "execution_count": 39
        }
      ]
    },
    {
      "cell_type": "code",
      "source": [
        "print(df[df[\"Serostatus_IBV_Vic\"] == 1][[\"Seroconversion_IBV_Vic\", \"D0_Titer_IBV_Vic\", \"D28_Titer_IBV_Vic\"]].describe())\n",
        "print(df[df[\"Serostatus_IBV_Vic\"] == 1][\"SC_category_IBV_Vic\"].value_counts())\n",
        "print(df[df[\"Serostatus_IBV_Vic\"] == 0][[\"Seroconversion_IBV_Vic\", \"D0_Titer_IBV_Vic\", \"D28_Titer_IBV_Vic\"]].describe())\n",
        "df[df[\"Serostatus_IBV_Vic\"] == 0][\"SC_category_IBV_Vic\"].value_counts()"
      ],
      "metadata": {
        "colab": {
          "base_uri": "https://localhost:8080/"
        },
        "id": "Rby65iZtWtL5",
        "outputId": "1134220a-31a0-4261-8590-779daa22d4b4"
      },
      "execution_count": 40,
      "outputs": [
        {
          "output_type": "stream",
          "name": "stdout",
          "text": [
            "       Seroconversion_IBV_Vic  D0_Titer_IBV_Vic  D28_Titer_IBV_Vic\n",
            "count              751.000000        751.000000         751.000000\n",
            "mean                 0.629827        104.447403         178.735020\n",
            "std                  0.983254         95.782710         237.736264\n",
            "min                 -3.000000         40.000000          10.000000\n",
            "25%                  0.000000         40.000000          80.000000\n",
            "50%                  0.000000         80.000000         160.000000\n",
            "75%                  1.000000        160.000000         160.000000\n",
            "max                  6.000000        640.000000        2560.000000\n",
            "None    376\n",
            "Low     287\n",
            "High     88\n",
            "Name: SC_category_IBV_Vic, dtype: int64\n",
            "       Seroconversion_IBV_Vic  D0_Titer_IBV_Vic  D28_Titer_IBV_Vic\n",
            "count              617.000000        617.000000         617.000000\n",
            "mean                 2.081556         12.058347          92.909238\n",
            "std                  1.712255          6.569545         203.391508\n",
            "min                 -2.000000          5.000000           5.000000\n",
            "25%                  1.000000          5.000000          20.000000\n",
            "50%                  2.000000         10.000000          40.000000\n",
            "75%                  3.000000         20.000000          80.000000\n",
            "max                  8.000000         20.000000        2560.000000\n"
          ]
        },
        {
          "output_type": "execute_result",
          "data": {
            "text/plain": [
              "High    327\n",
              "Low     200\n",
              "None     90\n",
              "Name: SC_category_IBV_Vic, dtype: int64"
            ]
          },
          "metadata": {},
          "execution_count": 40
        }
      ]
    },
    {
      "cell_type": "code",
      "source": [
        "print(df[df[\"Composite_SC_category\"] == \"Low\"][[\"Composite_seroconversion\", \"D0_Titer_IBV_Vic\", \"D28_Titer_IBV_Vic\", \"Serostatus_IBV_Vic\"]].describe())\n",
        "print(df[df[\"Composite_SC_category\"] == \"High\"][[\"Composite_seroconversion\", \"D0_Titer_IBV_Vic\", \"D28_Titer_IBV_Vic\", \"Serostatus_IBV_Vic\"]].describe())\n",
        "df[df[\"Composite_SC_category\"] == \"None\"][[\"Composite_seroconversion\", \"D0_Titer_IBV_Vic\", \"D28_Titer_IBV_Vic\", \"Serostatus_IBV_Vic\"]].describe()"
      ],
      "metadata": {
        "colab": {
          "base_uri": "https://localhost:8080/",
          "height": 998
        },
        "id": "OvXf4rQlTHR2",
        "outputId": "512934a3-3be8-4e3f-be2c-932660ed8719"
      },
      "execution_count": 41,
      "outputs": [
        {
          "output_type": "stream",
          "name": "stdout",
          "text": [
            "       Composite_seroconversion  D0_Titer_IBV_Vic  D28_Titer_IBV_Vic  \\\n",
            "count                414.000000        414.000000         414.000000   \n",
            "mean                   5.263816         51.280193         108.188406   \n",
            "std                    1.121361         67.422658         118.692854   \n",
            "min                    4.000000          5.000000           5.000000   \n",
            "25%                    4.000000         10.000000          40.000000   \n",
            "50%                    5.000000         40.000000          80.000000   \n",
            "75%                    6.000000         80.000000         160.000000   \n",
            "max                    7.580000        640.000000         640.000000   \n",
            "\n",
            "       Serostatus_IBV_Vic  \n",
            "count          414.000000  \n",
            "mean             0.502415  \n",
            "std              0.500599  \n",
            "min              0.000000  \n",
            "25%              0.000000  \n",
            "50%              1.000000  \n",
            "75%              1.000000  \n",
            "max              1.000000  \n",
            "       Composite_seroconversion  D0_Titer_IBV_Vic  D28_Titer_IBV_Vic  \\\n",
            "count                324.000000        324.000000         324.000000   \n",
            "mean                  11.845370         32.654321         251.126543   \n",
            "std                    3.664106         61.251582         397.611537   \n",
            "min                    8.000000          5.000000           5.000000   \n",
            "25%                    9.000000          5.000000          80.000000   \n",
            "50%                   11.000000         10.000000         160.000000   \n",
            "75%                   14.000000         40.000000         320.000000   \n",
            "max                   25.000000        640.000000        2560.000000   \n",
            "\n",
            "       Serostatus_IBV_Vic  \n",
            "count          324.000000  \n",
            "mean             0.296296  \n",
            "std              0.457330  \n",
            "min              0.000000  \n",
            "25%              0.000000  \n",
            "50%              0.000000  \n",
            "75%              1.000000  \n",
            "max              1.000000  \n"
          ]
        },
        {
          "output_type": "execute_result",
          "data": {
            "text/html": [
              "\n",
              "  <div id=\"df-5d710579-c189-4b3c-a353-841829381249\">\n",
              "    <div class=\"colab-df-container\">\n",
              "      <div>\n",
              "<style scoped>\n",
              "    .dataframe tbody tr th:only-of-type {\n",
              "        vertical-align: middle;\n",
              "    }\n",
              "\n",
              "    .dataframe tbody tr th {\n",
              "        vertical-align: top;\n",
              "    }\n",
              "\n",
              "    .dataframe thead th {\n",
              "        text-align: right;\n",
              "    }\n",
              "</style>\n",
              "<table border=\"1\" class=\"dataframe\">\n",
              "  <thead>\n",
              "    <tr style=\"text-align: right;\">\n",
              "      <th></th>\n",
              "      <th>Composite_seroconversion</th>\n",
              "      <th>D0_Titer_IBV_Vic</th>\n",
              "      <th>D28_Titer_IBV_Vic</th>\n",
              "      <th>Serostatus_IBV_Vic</th>\n",
              "    </tr>\n",
              "  </thead>\n",
              "  <tbody>\n",
              "    <tr>\n",
              "      <th>count</th>\n",
              "      <td>630.000000</td>\n",
              "      <td>630.000000</td>\n",
              "      <td>630.000000</td>\n",
              "      <td>630.000000</td>\n",
              "    </tr>\n",
              "    <tr>\n",
              "      <th>mean</th>\n",
              "      <td>1.502508</td>\n",
              "      <td>85.825397</td>\n",
              "      <td>103.809524</td>\n",
              "      <td>0.709524</td>\n",
              "    </tr>\n",
              "    <tr>\n",
              "      <th>std</th>\n",
              "      <td>1.350718</td>\n",
              "      <td>97.878293</td>\n",
              "      <td>114.445210</td>\n",
              "      <td>0.454343</td>\n",
              "    </tr>\n",
              "    <tr>\n",
              "      <th>min</th>\n",
              "      <td>-6.000000</td>\n",
              "      <td>5.000000</td>\n",
              "      <td>5.000000</td>\n",
              "      <td>0.000000</td>\n",
              "    </tr>\n",
              "    <tr>\n",
              "      <th>25%</th>\n",
              "      <td>1.000000</td>\n",
              "      <td>20.000000</td>\n",
              "      <td>40.000000</td>\n",
              "      <td>0.000000</td>\n",
              "    </tr>\n",
              "    <tr>\n",
              "      <th>50%</th>\n",
              "      <td>2.000000</td>\n",
              "      <td>40.000000</td>\n",
              "      <td>80.000000</td>\n",
              "      <td>1.000000</td>\n",
              "    </tr>\n",
              "    <tr>\n",
              "      <th>75%</th>\n",
              "      <td>3.000000</td>\n",
              "      <td>80.000000</td>\n",
              "      <td>160.000000</td>\n",
              "      <td>1.000000</td>\n",
              "    </tr>\n",
              "    <tr>\n",
              "      <th>max</th>\n",
              "      <td>3.580000</td>\n",
              "      <td>640.000000</td>\n",
              "      <td>1280.000000</td>\n",
              "      <td>1.000000</td>\n",
              "    </tr>\n",
              "  </tbody>\n",
              "</table>\n",
              "</div>\n",
              "      <button class=\"colab-df-convert\" onclick=\"convertToInteractive('df-5d710579-c189-4b3c-a353-841829381249')\"\n",
              "              title=\"Convert this dataframe to an interactive table.\"\n",
              "              style=\"display:none;\">\n",
              "        \n",
              "  <svg xmlns=\"http://www.w3.org/2000/svg\" height=\"24px\"viewBox=\"0 0 24 24\"\n",
              "       width=\"24px\">\n",
              "    <path d=\"M0 0h24v24H0V0z\" fill=\"none\"/>\n",
              "    <path d=\"M18.56 5.44l.94 2.06.94-2.06 2.06-.94-2.06-.94-.94-2.06-.94 2.06-2.06.94zm-11 1L8.5 8.5l.94-2.06 2.06-.94-2.06-.94L8.5 2.5l-.94 2.06-2.06.94zm10 10l.94 2.06.94-2.06 2.06-.94-2.06-.94-.94-2.06-.94 2.06-2.06.94z\"/><path d=\"M17.41 7.96l-1.37-1.37c-.4-.4-.92-.59-1.43-.59-.52 0-1.04.2-1.43.59L10.3 9.45l-7.72 7.72c-.78.78-.78 2.05 0 2.83L4 21.41c.39.39.9.59 1.41.59.51 0 1.02-.2 1.41-.59l7.78-7.78 2.81-2.81c.8-.78.8-2.07 0-2.86zM5.41 20L4 18.59l7.72-7.72 1.47 1.35L5.41 20z\"/>\n",
              "  </svg>\n",
              "      </button>\n",
              "      \n",
              "  <style>\n",
              "    .colab-df-container {\n",
              "      display:flex;\n",
              "      flex-wrap:wrap;\n",
              "      gap: 12px;\n",
              "    }\n",
              "\n",
              "    .colab-df-convert {\n",
              "      background-color: #E8F0FE;\n",
              "      border: none;\n",
              "      border-radius: 50%;\n",
              "      cursor: pointer;\n",
              "      display: none;\n",
              "      fill: #1967D2;\n",
              "      height: 32px;\n",
              "      padding: 0 0 0 0;\n",
              "      width: 32px;\n",
              "    }\n",
              "\n",
              "    .colab-df-convert:hover {\n",
              "      background-color: #E2EBFA;\n",
              "      box-shadow: 0px 1px 2px rgba(60, 64, 67, 0.3), 0px 1px 3px 1px rgba(60, 64, 67, 0.15);\n",
              "      fill: #174EA6;\n",
              "    }\n",
              "\n",
              "    [theme=dark] .colab-df-convert {\n",
              "      background-color: #3B4455;\n",
              "      fill: #D2E3FC;\n",
              "    }\n",
              "\n",
              "    [theme=dark] .colab-df-convert:hover {\n",
              "      background-color: #434B5C;\n",
              "      box-shadow: 0px 1px 3px 1px rgba(0, 0, 0, 0.15);\n",
              "      filter: drop-shadow(0px 1px 2px rgba(0, 0, 0, 0.3));\n",
              "      fill: #FFFFFF;\n",
              "    }\n",
              "  </style>\n",
              "\n",
              "      <script>\n",
              "        const buttonEl =\n",
              "          document.querySelector('#df-5d710579-c189-4b3c-a353-841829381249 button.colab-df-convert');\n",
              "        buttonEl.style.display =\n",
              "          google.colab.kernel.accessAllowed ? 'block' : 'none';\n",
              "\n",
              "        async function convertToInteractive(key) {\n",
              "          const element = document.querySelector('#df-5d710579-c189-4b3c-a353-841829381249');\n",
              "          const dataTable =\n",
              "            await google.colab.kernel.invokeFunction('convertToInteractive',\n",
              "                                                     [key], {});\n",
              "          if (!dataTable) return;\n",
              "\n",
              "          const docLinkHtml = 'Like what you see? Visit the ' +\n",
              "            '<a target=\"_blank\" href=https://colab.research.google.com/notebooks/data_table.ipynb>data table notebook</a>'\n",
              "            + ' to learn more about interactive tables.';\n",
              "          element.innerHTML = '';\n",
              "          dataTable['output_type'] = 'display_data';\n",
              "          await google.colab.output.renderOutput(dataTable, element);\n",
              "          const docLink = document.createElement('div');\n",
              "          docLink.innerHTML = docLinkHtml;\n",
              "          element.appendChild(docLink);\n",
              "        }\n",
              "      </script>\n",
              "    </div>\n",
              "  </div>\n",
              "  "
            ],
            "text/plain": [
              "       Composite_seroconversion  D0_Titer_IBV_Vic  D28_Titer_IBV_Vic  \\\n",
              "count                630.000000        630.000000         630.000000   \n",
              "mean                   1.502508         85.825397         103.809524   \n",
              "std                    1.350718         97.878293         114.445210   \n",
              "min                   -6.000000          5.000000           5.000000   \n",
              "25%                    1.000000         20.000000          40.000000   \n",
              "50%                    2.000000         40.000000          80.000000   \n",
              "75%                    3.000000         80.000000         160.000000   \n",
              "max                    3.580000        640.000000        1280.000000   \n",
              "\n",
              "       Serostatus_IBV_Vic  \n",
              "count          630.000000  \n",
              "mean             0.709524  \n",
              "std              0.454343  \n",
              "min              0.000000  \n",
              "25%              0.000000  \n",
              "50%              1.000000  \n",
              "75%              1.000000  \n",
              "max              1.000000  "
            ]
          },
          "metadata": {},
          "execution_count": 41
        }
      ]
    },
    {
      "cell_type": "markdown",
      "source": [
        "# Summary\n",
        "* For each antigen, $\\texttt{SC_category}$ postively reflects $\\texttt{Seroconversion}$ level ($\\texttt{Low}$ in $\\texttt{SC_category}$ means $\\texttt{1.0}$ in $\\texttt{Seroconversion}$; $\\texttt{High}$ means above; $\\texttt{None}$ are $\\texttt{-3.0}$ to $\\texttt{0.0}$, probably false data, or comparison set with no intervention.) \\\\\n",
        "* For $\\texttt{Composite_SC_category}$, I'm not sure which titer column to look at, but the corresponding seroconversion level relations are similar: $\\texttt{-6}$ to $\\texttt{3.58}$ in $\\texttt{seroconversion}$ gives $\\texttt{None}$; $\\texttt{4}$ to $\\texttt{7.58}$ in $\\texttt{seroconversion}$ gives $\\texttt{Low}$; $\\texttt{8}$ to $\\texttt{25}$ in $\\texttt{seroconversion}$ gives $\\texttt{High}$.\n",
        "* You can also see that $\\texttt{Low}$ in $\\texttt{SC_category}$ indicates smaller variance in $\\texttt{Titer}$ level throughout $28$ days ($\\texttt{D0_Titer}$ larger, $\\texttt{D28_Titer}$ smaller), and vice versa; however, for entries that has $\\texttt{None}$, the average $\\texttt{D0_Titer}$ levels are almost always larger, or at least no less, than $\\texttt{D28_Titer}$ levels. \\\\\n",
        "* For each virus, $\\texttt{Serostatus}$ reflects the absolute magnitudes for $\\texttt{D0_Titer}$ and $\\texttt{D28_Titer}$. Note that $1$ does not necessarily mean $\\texttt{SC_category}$ is $\\texttt{None}$, but $\\texttt{None}$ does appear more often, and vice versa.\n"
      ],
      "metadata": {
        "id": "RnhUDeqpXkZv"
      }
    },
    {
      "cell_type": "markdown",
      "source": [
        "# strains and baseline\n",
        "It looks like the three antigens have very similar behaviors, so I tried to studied this part on titer levels of $\\text{H1N1}$."
      ],
      "metadata": {
        "id": "w2bQiDpbjOMV"
      }
    },
    {
      "cell_type": "code",
      "source": [
        "print(df[df[\"Num_SeroPos_strains\"] == 0][[\"Composite_seroconversion\", \"Baseline_category_Num_SeroPos_strains\",\"Composite_baseline\", \"D0_Titer_H1N1\", \"D28_Titer_H1N1\", \"Serostatus_H1N1\", ]].describe())\n",
        "print(df[df[\"Num_SeroPos_strains\"] == 0][\"Baseline_category_Num_SeroPos_strains\"].value_counts())\n",
        "print(df[df[\"Num_SeroPos_strains\"] == 1][[\"Composite_seroconversion\", \"Baseline_category_Num_SeroPos_strains\",\"Composite_baseline\", \"D0_Titer_H1N1\", \"D28_Titer_H1N1\", \"Serostatus_H1N1\"]].describe())\n",
        "print(df[df[\"Num_SeroPos_strains\"] == 1][\"Baseline_category_Num_SeroPos_strains\"].value_counts())\n",
        "print(df[df[\"Num_SeroPos_strains\"] == 2][[\"Composite_seroconversion\", \"Baseline_category_Num_SeroPos_strains\",\"Composite_baseline\", \"D0_Titer_H1N1\", \"D28_Titer_H1N1\", \"Serostatus_H1N1\"]].describe())\n",
        "print(df[df[\"Num_SeroPos_strains\"] == 2][\"Baseline_category_Num_SeroPos_strains\"].value_counts())\n",
        "print(df[df[\"Num_SeroPos_strains\"] == 3][[\"Composite_seroconversion\", \"Baseline_category_Num_SeroPos_strains\", \"Composite_baseline\", \"D0_Titer_H1N1\", \"D28_Titer_H1N1\", \"Serostatus_H1N1\"]].describe())\n",
        "print(df[df[\"Num_SeroPos_strains\"] == 3][\"Baseline_category_Num_SeroPos_strains\"].value_counts())\n",
        "df[df[\"Num_SeroPos_strains\"] == 4][[\"Composite_seroconversion\", \"Baseline_category_Num_SeroPos_strains\",\"Composite_baseline\", \"D0_Titer_H1N1\", \"D28_Titer_H1N1\", \"Serostatus_H1N1\"]].describe()\n",
        "df[df[\"Num_SeroPos_strains\"] == 4][\"Baseline_category_Num_SeroPos_strains\"].value_counts()\n"
      ],
      "metadata": {
        "id": "QcQLasMTjYZp",
        "colab": {
          "base_uri": "https://localhost:8080/"
        },
        "outputId": "4b7525ed-9b7e-4181-ea91-a52e4de27554"
      },
      "execution_count": 42,
      "outputs": [
        {
          "output_type": "stream",
          "name": "stdout",
          "text": [
            "       Composite_seroconversion  Composite_baseline  D0_Titer_H1N1  \\\n",
            "count                163.000000          163.000000     163.000000   \n",
            "mean                   8.092025           12.030184       8.251534   \n",
            "std                    5.765810            1.887039       5.016446   \n",
            "min                    0.000000            9.000000       5.000000   \n",
            "25%                    3.000000           11.000000       5.000000   \n",
            "50%                    7.000000           12.000000       5.000000   \n",
            "75%                   11.000000           13.290000      10.000000   \n",
            "max                   25.000000           17.290000      20.000000   \n",
            "\n",
            "       D28_Titer_H1N1  Serostatus_H1N1  \n",
            "count      163.000000            163.0  \n",
            "mean       116.993865              0.0  \n",
            "std        301.784579              0.0  \n",
            "min          5.000000              0.0  \n",
            "25%         10.000000              0.0  \n",
            "50%         20.000000              0.0  \n",
            "75%         80.000000              0.0  \n",
            "max       2560.000000              0.0  \n",
            "Low    163\n",
            "Name: Baseline_category_Num_SeroPos_strains, dtype: int64\n",
            "       Composite_seroconversion  Composite_baseline  D0_Titer_H1N1  \\\n",
            "count                205.000000          205.000000     205.000000   \n",
            "mean                   6.874732           15.565756      17.853659   \n",
            "std                    5.011558            2.008167      28.141415   \n",
            "min                   -3.000000           12.000000       5.000000   \n",
            "25%                    3.000000           14.000000       5.000000   \n",
            "50%                    6.000000           16.000000      10.000000   \n",
            "75%                   10.000000           17.000000      20.000000   \n",
            "max                   21.000000           21.000000     320.000000   \n",
            "\n",
            "       D28_Titer_H1N1  Serostatus_H1N1  \n",
            "count      205.000000       205.000000  \n",
            "mean        97.390244         0.141463  \n",
            "std        233.844979         0.349352  \n",
            "min          5.000000         0.000000  \n",
            "25%         20.000000         0.000000  \n",
            "50%         40.000000         0.000000  \n",
            "75%         80.000000         0.000000  \n",
            "max       2560.000000         1.000000  \n",
            "Low    205\n",
            "Name: Baseline_category_Num_SeroPos_strains, dtype: int64\n",
            "       Composite_seroconversion  Composite_baseline  D0_Titer_H1N1  \\\n",
            "count                317.000000          317.000000     317.000000   \n",
            "mean                   6.046688           19.183470      50.741325   \n",
            "std                    4.542551            1.943828     110.131549   \n",
            "min                   -4.000000           15.000000       5.000000   \n",
            "25%                    3.000000           18.000000       5.000000   \n",
            "50%                    5.000000           19.000000      20.000000   \n",
            "75%                    8.000000           20.290000      40.000000   \n",
            "max                   22.000000           25.000000    1280.000000   \n",
            "\n",
            "       D28_Titer_H1N1  Serostatus_H1N1  \n",
            "count      317.000000       317.000000  \n",
            "mean       193.391167         0.375394  \n",
            "std        348.679378         0.484990  \n",
            "min          5.000000         0.000000  \n",
            "25%         20.000000         0.000000  \n",
            "50%         80.000000         0.000000  \n",
            "75%        160.000000         1.000000  \n",
            "max       2560.000000         1.000000  \n",
            "Low    317\n",
            "Name: Baseline_category_Num_SeroPos_strains, dtype: int64\n",
            "       Composite_seroconversion  Composite_baseline  D0_Titer_H1N1  \\\n",
            "count                324.000000          324.000000     324.000000   \n",
            "mean                   4.489444           22.544228      86.712963   \n",
            "std                    3.573882            2.248627     118.300979   \n",
            "min                   -2.000000           18.000000       5.000000   \n",
            "25%                    2.000000           21.000000      20.000000   \n",
            "50%                    4.000000           22.145000      40.000000   \n",
            "75%                    6.000000           24.000000      80.000000   \n",
            "max                   18.000000           32.290000    1280.000000   \n",
            "\n",
            "       D28_Titer_H1N1  Serostatus_H1N1  \n",
            "count      324.000000       324.000000  \n",
            "mean       185.138889         0.694444  \n",
            "std        275.811601         0.461355  \n",
            "min          5.000000         0.000000  \n",
            "25%         40.000000         0.000000  \n",
            "50%         80.000000         1.000000  \n",
            "75%        160.000000         1.000000  \n",
            "max       2560.000000         1.000000  \n",
            "High    324\n",
            "Name: Baseline_category_Num_SeroPos_strains, dtype: int64\n"
          ]
        },
        {
          "output_type": "execute_result",
          "data": {
            "text/plain": [
              "High    359\n",
              "Name: Baseline_category_Num_SeroPos_strains, dtype: int64"
            ]
          },
          "metadata": {},
          "execution_count": 42
        }
      ]
    },
    {
      "cell_type": "code",
      "source": [
        "pd.set_option('display.max_columns', 5)"
      ],
      "metadata": {
        "id": "XQc8QhJ9jNgt"
      },
      "execution_count": 43,
      "outputs": []
    },
    {
      "cell_type": "markdown",
      "source": [
        "# Summary\n",
        "\n",
        "\n",
        "*   The range of each strain category is not exclusive to each other, but mean values of $\\texttt{Composite_seroconversion}$ and $\\texttt{Composite_baseline}$ follows such that $\\texttt{Composite_SC_category}$ is negatively proportional to $\\texttt{Composite_seroconversion}$ and positively proportional to $\\texttt{Composite_baseline}$.\n",
        "*   Looks like there is no direct correlation to titer level.\n",
        "*   Need more field related knowledge to know what this is.\n",
        "*   From all the information gathered, I assume that the quantities I have covered that includes $\\texttt{seroconversion}$ are all responses to the vaccine, but I'm not sure if day 0 data and day 28 data serves the purpose of comparison, features, or response. \n",
        "\n"
      ],
      "metadata": {
        "id": "8IzQwW8Hey2-"
      }
    },
    {
      "cell_type": "markdown",
      "source": [
        "# Moving on...\n",
        "\n",
        "For all the \"omics\" data, I'm still working on it, and from brief look all the data are continuous quantities of protein, which I think should be the features besides those in metadata. SIMON paper mentions similar structure of their dataset."
      ],
      "metadata": {
        "id": "2GcPf7llhlk1"
      }
    }
  ]
}